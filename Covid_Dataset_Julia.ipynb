{
 "cells": [
  {
   "cell_type": "code",
   "execution_count": 3,
   "id": "3617f98c-8cde-43af-95d9-b62f0275d01c",
   "metadata": {},
   "outputs": [
    {
     "data": {
      "text/html": [
       "<div><div style = \"float: left;\"><span>1065×10 DataFrame</span></div><div style = \"float: right;\"><span style = \"font-style: italic;\">1040 rows omitted</span></div><div style = \"clear: both;\"></div></div><div class = \"data-frame\" style = \"overflow-x: scroll;\"><table class = \"data-frame\" style = \"margin-bottom: 6px;\"><thead><tr class = \"header\"><th class = \"rowNumber\" style = \"font-weight: bold; text-align: right;\">Row</th><th style = \"text-align: left;\">Police Action</th><th style = \"text-align: left;\">District</th><th style = \"text-align: left;\">N</th><th style = \"text-align: left;\">Number of Records</th><th style = \"text-align: left;\">Period</th><th style = \"text-align: left;\">Station</th><th style = \"text-align: left;\">Breach Type</th><th style = \"text-align: left;\">Country</th><th style = \"text-align: left;\">Alert Level</th><th style = \"text-align: left;\">Area</th></tr><tr class = \"subheader headerLastRow\"><th class = \"rowNumber\" style = \"font-weight: bold; text-align: right;\"></th><th title = \"String15\" style = \"text-align: left;\">String15</th><th title = \"String31\" style = \"text-align: left;\">String31</th><th title = \"Int64\" style = \"text-align: left;\">Int64</th><th title = \"Int64\" style = \"text-align: left;\">Int64</th><th title = \"String15\" style = \"text-align: left;\">String15</th><th title = \"String31\" style = \"text-align: left;\">String31</th><th title = \"String\" style = \"text-align: left;\">String</th><th title = \"String15\" style = \"text-align: left;\">String15</th><th title = \"Int64\" style = \"text-align: left;\">Int64</th><th title = \"String31\" style = \"text-align: left;\">String31</th></tr></thead><tbody><tr><td class = \"rowNumber\" style = \"font-weight: bold; text-align: right;\">1</td><td style = \"text-align: left;\">Prosecution</td><td style = \"text-align: left;\">Canterbury</td><td style = \"text-align: right;\">1</td><td style = \"text-align: right;\">1</td><td style = \"text-align: left;\">COVID-19</td><td style = \"text-align: left;\">Hornby</td><td style = \"text-align: left;\">Failing to Comply with a COVID-19 Direction/Prohibition/Restriction</td><td style = \"text-align: left;\">New Zealand</td><td style = \"text-align: right;\">2</td><td style = \"text-align: left;\">Canterbury Metro Area</td></tr><tr><td class = \"rowNumber\" style = \"font-weight: bold; text-align: right;\">2</td><td style = \"text-align: left;\">Written Warning</td><td style = \"text-align: left;\">Auckland City</td><td style = \"text-align: right;\">3</td><td style = \"text-align: right;\">1</td><td style = \"text-align: left;\">COVID-19</td><td style = \"text-align: left;\">Auckland Central</td><td style = \"text-align: left;\">Failing to Comply with a COVID-19 Direction/Prohibition/Restriction</td><td style = \"text-align: left;\">New Zealand</td><td style = \"text-align: right;\">2</td><td style = \"text-align: left;\">Auckland Central Area</td></tr><tr><td class = \"rowNumber\" style = \"font-weight: bold; text-align: right;\">3</td><td style = \"text-align: left;\">Written Warning</td><td style = \"text-align: left;\">Canterbury</td><td style = \"text-align: right;\">3</td><td style = \"text-align: right;\">1</td><td style = \"text-align: left;\">COVID-19</td><td style = \"text-align: left;\">Hornby</td><td style = \"text-align: left;\">Failing to Comply with a COVID-19 Direction/Prohibition/Restriction</td><td style = \"text-align: left;\">New Zealand</td><td style = \"text-align: right;\">2</td><td style = \"text-align: left;\">Canterbury Metro Area</td></tr><tr><td class = \"rowNumber\" style = \"font-weight: bold; text-align: right;\">4</td><td style = \"text-align: left;\">Prosecution</td><td style = \"text-align: left;\">Canterbury</td><td style = \"text-align: right;\">1</td><td style = \"text-align: right;\">1</td><td style = \"text-align: left;\">COVID-19</td><td style = \"text-align: left;\">Hornby</td><td style = \"text-align: left;\">Health Act Breach</td><td style = \"text-align: left;\">New Zealand</td><td style = \"text-align: right;\">2</td><td style = \"text-align: left;\">Canterbury Metro Area</td></tr><tr><td class = \"rowNumber\" style = \"font-weight: bold; text-align: right;\">5</td><td style = \"text-align: left;\">Prosecution</td><td style = \"text-align: left;\">Wellington</td><td style = \"text-align: right;\">1</td><td style = \"text-align: right;\">1</td><td style = \"text-align: left;\">COVID-19</td><td style = \"text-align: left;\">Waitangirua</td><td style = \"text-align: left;\">Health Act Breach</td><td style = \"text-align: left;\">New Zealand</td><td style = \"text-align: right;\">2</td><td style = \"text-align: left;\">Kapiti-Mana Area</td></tr><tr><td class = \"rowNumber\" style = \"font-weight: bold; text-align: right;\">6</td><td style = \"text-align: left;\">Verbal Warning</td><td style = \"text-align: left;\">Auckland City</td><td style = \"text-align: right;\">8</td><td style = \"text-align: right;\">1</td><td style = \"text-align: left;\">COVID-19</td><td style = \"text-align: left;\">Auckland Central</td><td style = \"text-align: left;\">Health Act Breach</td><td style = \"text-align: left;\">New Zealand</td><td style = \"text-align: right;\">2</td><td style = \"text-align: left;\">Auckland Central Area</td></tr><tr><td class = \"rowNumber\" style = \"font-weight: bold; text-align: right;\">7</td><td style = \"text-align: left;\">Verbal Warning</td><td style = \"text-align: left;\">Auckland City</td><td style = \"text-align: right;\">1</td><td style = \"text-align: right;\">1</td><td style = \"text-align: left;\">COVID-19</td><td style = \"text-align: left;\">Mount Wellington</td><td style = \"text-align: left;\">Health Act Breach</td><td style = \"text-align: left;\">New Zealand</td><td style = \"text-align: right;\">2</td><td style = \"text-align: left;\">Auckland East Area</td></tr><tr><td class = \"rowNumber\" style = \"font-weight: bold; text-align: right;\">8</td><td style = \"text-align: left;\">Verbal Warning</td><td style = \"text-align: left;\">Counties/Manukau</td><td style = \"text-align: right;\">2</td><td style = \"text-align: right;\">1</td><td style = \"text-align: left;\">COVID-19</td><td style = \"text-align: left;\">Papakura</td><td style = \"text-align: left;\">Health Act Breach</td><td style = \"text-align: left;\">New Zealand</td><td style = \"text-align: right;\">2</td><td style = \"text-align: left;\">Counties Manukau South Area</td></tr><tr><td class = \"rowNumber\" style = \"font-weight: bold; text-align: right;\">9</td><td style = \"text-align: left;\">Verbal Warning</td><td style = \"text-align: left;\">Counties/Manukau</td><td style = \"text-align: right;\">1</td><td style = \"text-align: right;\">1</td><td style = \"text-align: left;\">COVID-19</td><td style = \"text-align: left;\">Auckland Airport</td><td style = \"text-align: left;\">Health Act Breach</td><td style = \"text-align: left;\">New Zealand</td><td style = \"text-align: right;\">2</td><td style = \"text-align: left;\">Counties Manukau West Area</td></tr><tr><td class = \"rowNumber\" style = \"font-weight: bold; text-align: right;\">10</td><td style = \"text-align: left;\">Verbal Warning</td><td style = \"text-align: left;\">Counties/Manukau</td><td style = \"text-align: right;\">1</td><td style = \"text-align: right;\">1</td><td style = \"text-align: left;\">COVID-19</td><td style = \"text-align: left;\">Mangere</td><td style = \"text-align: left;\">Health Act Breach</td><td style = \"text-align: left;\">New Zealand</td><td style = \"text-align: right;\">2</td><td style = \"text-align: left;\">Counties Manukau West Area</td></tr><tr><td class = \"rowNumber\" style = \"font-weight: bold; text-align: right;\">11</td><td style = \"text-align: left;\">Verbal Warning</td><td style = \"text-align: left;\">Waitemata</td><td style = \"text-align: right;\">1</td><td style = \"text-align: right;\">1</td><td style = \"text-align: left;\">COVID-19</td><td style = \"text-align: left;\">New Lynn</td><td style = \"text-align: left;\">Health Act Breach</td><td style = \"text-align: left;\">New Zealand</td><td style = \"text-align: right;\">2</td><td style = \"text-align: left;\">Waitemata West Area</td></tr><tr><td class = \"rowNumber\" style = \"font-weight: bold; text-align: right;\">12</td><td style = \"text-align: left;\">Verbal Warning</td><td style = \"text-align: left;\">Wellington</td><td style = \"text-align: right;\">6</td><td style = \"text-align: right;\">1</td><td style = \"text-align: left;\">COVID-19</td><td style = \"text-align: left;\">Wellington Central</td><td style = \"text-align: left;\">Health Act Breach</td><td style = \"text-align: left;\">New Zealand</td><td style = \"text-align: right;\">2</td><td style = \"text-align: left;\">Wellington Area</td></tr><tr><td class = \"rowNumber\" style = \"font-weight: bold; text-align: right;\">13</td><td style = \"text-align: left;\">Written Warning</td><td style = \"text-align: left;\">Auckland City</td><td style = \"text-align: right;\">4</td><td style = \"text-align: right;\">1</td><td style = \"text-align: left;\">COVID-19</td><td style = \"text-align: left;\">Auckland Central</td><td style = \"text-align: left;\">Health Act Breach</td><td style = \"text-align: left;\">New Zealand</td><td style = \"text-align: right;\">2</td><td style = \"text-align: left;\">Auckland Central Area</td></tr><tr><td style = \"text-align: right;\">&vellip;</td><td style = \"text-align: right;\">&vellip;</td><td style = \"text-align: right;\">&vellip;</td><td style = \"text-align: right;\">&vellip;</td><td style = \"text-align: right;\">&vellip;</td><td style = \"text-align: right;\">&vellip;</td><td style = \"text-align: right;\">&vellip;</td><td style = \"text-align: right;\">&vellip;</td><td style = \"text-align: right;\">&vellip;</td><td style = \"text-align: right;\">&vellip;</td><td style = \"text-align: right;\">&vellip;</td></tr><tr><td class = \"rowNumber\" style = \"font-weight: bold; text-align: right;\">1054</td><td style = \"text-align: left;\">Youth Referral</td><td style = \"text-align: left;\">Waitemata</td><td style = \"text-align: right;\">1</td><td style = \"text-align: right;\">1</td><td style = \"text-align: left;\">COVID-19</td><td style = \"text-align: left;\">Glenfield</td><td style = \"text-align: left;\">Health Act Breach</td><td style = \"text-align: left;\">New Zealand</td><td style = \"text-align: right;\">4</td><td style = \"text-align: left;\">Waitemata East Area</td></tr><tr><td class = \"rowNumber\" style = \"font-weight: bold; text-align: right;\">1055</td><td style = \"text-align: left;\">Youth Referral</td><td style = \"text-align: left;\">Waitemata</td><td style = \"text-align: right;\">1</td><td style = \"text-align: right;\">1</td><td style = \"text-align: left;\">COVID-19</td><td style = \"text-align: left;\">Warkworth</td><td style = \"text-align: left;\">Health Act Breach</td><td style = \"text-align: left;\">New Zealand</td><td style = \"text-align: right;\">4</td><td style = \"text-align: left;\">Waitemata North Area</td></tr><tr><td class = \"rowNumber\" style = \"font-weight: bold; text-align: right;\">1056</td><td style = \"text-align: left;\">Youth Referral</td><td style = \"text-align: left;\">Waitemata</td><td style = \"text-align: right;\">2</td><td style = \"text-align: right;\">1</td><td style = \"text-align: left;\">COVID-19</td><td style = \"text-align: left;\">Orewa</td><td style = \"text-align: left;\">Health Act Breach</td><td style = \"text-align: left;\">New Zealand</td><td style = \"text-align: right;\">4</td><td style = \"text-align: left;\">Waitemata North Area</td></tr><tr><td class = \"rowNumber\" style = \"font-weight: bold; text-align: right;\">1057</td><td style = \"text-align: left;\">Youth Referral</td><td style = \"text-align: left;\">Waitemata</td><td style = \"text-align: right;\">3</td><td style = \"text-align: right;\">1</td><td style = \"text-align: left;\">COVID-19</td><td style = \"text-align: left;\">Whangaparaoa</td><td style = \"text-align: left;\">Health Act Breach</td><td style = \"text-align: left;\">New Zealand</td><td style = \"text-align: right;\">4</td><td style = \"text-align: left;\">Waitemata North Area</td></tr><tr><td class = \"rowNumber\" style = \"font-weight: bold; text-align: right;\">1058</td><td style = \"text-align: left;\">Youth Referral</td><td style = \"text-align: left;\">Waitemata</td><td style = \"text-align: right;\">2</td><td style = \"text-align: right;\">1</td><td style = \"text-align: left;\">COVID-19</td><td style = \"text-align: left;\">New Lynn</td><td style = \"text-align: left;\">Health Act Breach</td><td style = \"text-align: left;\">New Zealand</td><td style = \"text-align: right;\">4</td><td style = \"text-align: left;\">Waitemata West Area</td></tr><tr><td class = \"rowNumber\" style = \"font-weight: bold; text-align: right;\">1059</td><td style = \"text-align: left;\">Youth Referral</td><td style = \"text-align: left;\">Waitemata</td><td style = \"text-align: right;\">7</td><td style = \"text-align: right;\">1</td><td style = \"text-align: left;\">COVID-19</td><td style = \"text-align: left;\">Henderson</td><td style = \"text-align: left;\">Health Act Breach</td><td style = \"text-align: left;\">New Zealand</td><td style = \"text-align: right;\">4</td><td style = \"text-align: left;\">Waitemata West Area</td></tr><tr><td class = \"rowNumber\" style = \"font-weight: bold; text-align: right;\">1060</td><td style = \"text-align: left;\">Youth Referral</td><td style = \"text-align: left;\">Wellington</td><td style = \"text-align: right;\">1</td><td style = \"text-align: right;\">1</td><td style = \"text-align: left;\">COVID-19</td><td style = \"text-align: left;\">Upper Hutt</td><td style = \"text-align: left;\">Health Act Breach</td><td style = \"text-align: left;\">New Zealand</td><td style = \"text-align: right;\">4</td><td style = \"text-align: left;\">Hutt Valley Area</td></tr><tr><td class = \"rowNumber\" style = \"font-weight: bold; text-align: right;\">1061</td><td style = \"text-align: left;\">Youth Referral</td><td style = \"text-align: left;\">Wellington</td><td style = \"text-align: right;\">2</td><td style = \"text-align: right;\">1</td><td style = \"text-align: left;\">COVID-19</td><td style = \"text-align: left;\">Naenae</td><td style = \"text-align: left;\">Health Act Breach</td><td style = \"text-align: left;\">New Zealand</td><td style = \"text-align: right;\">4</td><td style = \"text-align: left;\">Hutt Valley Area</td></tr><tr><td class = \"rowNumber\" style = \"font-weight: bold; text-align: right;\">1062</td><td style = \"text-align: left;\">Youth Referral</td><td style = \"text-align: left;\">Wellington</td><td style = \"text-align: right;\">3</td><td style = \"text-align: right;\">1</td><td style = \"text-align: left;\">COVID-19</td><td style = \"text-align: left;\">Wainuiomata</td><td style = \"text-align: left;\">Health Act Breach</td><td style = \"text-align: left;\">New Zealand</td><td style = \"text-align: right;\">4</td><td style = \"text-align: left;\">Hutt Valley Area</td></tr><tr><td class = \"rowNumber\" style = \"font-weight: bold; text-align: right;\">1063</td><td style = \"text-align: left;\">Youth Referral</td><td style = \"text-align: left;\">Wellington</td><td style = \"text-align: right;\">4</td><td style = \"text-align: right;\">1</td><td style = \"text-align: left;\">COVID-19</td><td style = \"text-align: left;\">Lower Hutt</td><td style = \"text-align: left;\">Health Act Breach</td><td style = \"text-align: left;\">New Zealand</td><td style = \"text-align: right;\">4</td><td style = \"text-align: left;\">Hutt Valley Area</td></tr><tr><td class = \"rowNumber\" style = \"font-weight: bold; text-align: right;\">1064</td><td style = \"text-align: left;\">Youth Referral</td><td style = \"text-align: left;\">Wellington</td><td style = \"text-align: right;\">4</td><td style = \"text-align: right;\">1</td><td style = \"text-align: left;\">COVID-19</td><td style = \"text-align: left;\">Kilbirnie</td><td style = \"text-align: left;\">Health Act Breach</td><td style = \"text-align: left;\">New Zealand</td><td style = \"text-align: right;\">4</td><td style = \"text-align: left;\">Wellington Area</td></tr><tr><td class = \"rowNumber\" style = \"font-weight: bold; text-align: right;\">1065</td><td style = \"text-align: left;\">Youth Referral</td><td style = \"text-align: left;\">Wellington</td><td style = \"text-align: right;\">12</td><td style = \"text-align: right;\">1</td><td style = \"text-align: left;\">COVID-19</td><td style = \"text-align: left;\">Wellington Central</td><td style = \"text-align: left;\">Health Act Breach</td><td style = \"text-align: left;\">New Zealand</td><td style = \"text-align: right;\">4</td><td style = \"text-align: left;\">Wellington Area</td></tr></tbody></table></div>"
      ],
      "text/latex": [
       "\\begin{tabular}{r|ccccccc}\n",
       "\t& Police Action & District & N & Number of Records & Period & Station & \\\\\n",
       "\t\\hline\n",
       "\t& String15 & String31 & Int64 & Int64 & String15 & String31 & \\\\\n",
       "\t\\hline\n",
       "\t1 & Prosecution & Canterbury & 1 & 1 & COVID-19 & Hornby & $\\dots$ \\\\\n",
       "\t2 & Written Warning & Auckland City & 3 & 1 & COVID-19 & Auckland Central & $\\dots$ \\\\\n",
       "\t3 & Written Warning & Canterbury & 3 & 1 & COVID-19 & Hornby & $\\dots$ \\\\\n",
       "\t4 & Prosecution & Canterbury & 1 & 1 & COVID-19 & Hornby & $\\dots$ \\\\\n",
       "\t5 & Prosecution & Wellington & 1 & 1 & COVID-19 & Waitangirua & $\\dots$ \\\\\n",
       "\t6 & Verbal Warning & Auckland City & 8 & 1 & COVID-19 & Auckland Central & $\\dots$ \\\\\n",
       "\t7 & Verbal Warning & Auckland City & 1 & 1 & COVID-19 & Mount Wellington & $\\dots$ \\\\\n",
       "\t8 & Verbal Warning & Counties/Manukau & 2 & 1 & COVID-19 & Papakura & $\\dots$ \\\\\n",
       "\t9 & Verbal Warning & Counties/Manukau & 1 & 1 & COVID-19 & Auckland Airport & $\\dots$ \\\\\n",
       "\t10 & Verbal Warning & Counties/Manukau & 1 & 1 & COVID-19 & Mangere & $\\dots$ \\\\\n",
       "\t11 & Verbal Warning & Waitemata & 1 & 1 & COVID-19 & New Lynn & $\\dots$ \\\\\n",
       "\t12 & Verbal Warning & Wellington & 6 & 1 & COVID-19 & Wellington Central & $\\dots$ \\\\\n",
       "\t13 & Written Warning & Auckland City & 4 & 1 & COVID-19 & Auckland Central & $\\dots$ \\\\\n",
       "\t14 & Written Warning & Canterbury & 17 & 1 & COVID-19 & Hornby & $\\dots$ \\\\\n",
       "\t15 & Written Warning & Canterbury & 8 & 1 & COVID-19 & Papanui & $\\dots$ \\\\\n",
       "\t16 & Prosecution & Bay Of Plenty & 1 & 1 & COVID-19 & Papamoa & $\\dots$ \\\\\n",
       "\t17 & Prosecution & Bay Of Plenty & 1 & 1 & COVID-19 & Tauranga South & $\\dots$ \\\\\n",
       "\t18 & Prosecution & Tasman & 1 & 1 & COVID-19 & Franz Josef & $\\dots$ \\\\\n",
       "\t19 & Prosecution & Waikato & 1 & 1 & COVID-19 & Waihi & $\\dots$ \\\\\n",
       "\t20 & Verbal Warning & Bay Of Plenty & 1 & 1 & COVID-19 & Rotorua & $\\dots$ \\\\\n",
       "\t21 & Verbal Warning & Bay Of Plenty & 1 & 1 & COVID-19 & Papamoa & $\\dots$ \\\\\n",
       "\t22 & Verbal Warning & Counties/Manukau & 1 & 1 & COVID-19 & Papakura & $\\dots$ \\\\\n",
       "\t23 & Verbal Warning & Waikato & 2 & 1 & COVID-19 & Hamilton North & $\\dots$ \\\\\n",
       "\t24 & Written Warning & Auckland City & 1 & 1 & COVID-19 & Mount Wellington & $\\dots$ \\\\\n",
       "\t25 & Written Warning & Tasman & 1 & 1 & COVID-19 & Nelson Central & $\\dots$ \\\\\n",
       "\t26 & Written Warning & Waikato & 1 & 1 & COVID-19 & Hamilton North & $\\dots$ \\\\\n",
       "\t27 & Written Warning & Wellington & 2 & 1 & COVID-19 & Masterton & $\\dots$ \\\\\n",
       "\t28 & Youth Referral & Counties/Manukau & 1 & 1 & COVID-19 & Papakura & $\\dots$ \\\\\n",
       "\t29 & Prosecution & Auckland City & 3 & 1 & COVID-19 & Auckland Central & $\\dots$ \\\\\n",
       "\t30 & Prosecution & Auckland City & 1 & 1 & COVID-19 & Mount Wellington & $\\dots$ \\\\\n",
       "\t$\\dots$ & $\\dots$ & $\\dots$ & $\\dots$ & $\\dots$ & $\\dots$ & $\\dots$ &  \\\\\n",
       "\\end{tabular}\n"
      ],
      "text/plain": [
       "\u001b[1m1065×10 DataFrame\u001b[0m\n",
       "\u001b[1m  Row \u001b[0m│\u001b[1m Police Action   \u001b[0m\u001b[1m District         \u001b[0m\u001b[1m N     \u001b[0m\u001b[1m Number of Records \u001b[0m\u001b[1m Period   \u001b[0m\u001b[1m\u001b[0m ⋯\n",
       "      │\u001b[90m String15        \u001b[0m\u001b[90m String31         \u001b[0m\u001b[90m Int64 \u001b[0m\u001b[90m Int64             \u001b[0m\u001b[90m String15 \u001b[0m\u001b[90m\u001b[0m ⋯\n",
       "──────┼─────────────────────────────────────────────────────────────────────────\n",
       "    1 │ Prosecution      Canterbury            1                  1  COVID-19  ⋯\n",
       "    2 │ Written Warning  Auckland City         3                  1  COVID-19\n",
       "    3 │ Written Warning  Canterbury            3                  1  COVID-19\n",
       "    4 │ Prosecution      Canterbury            1                  1  COVID-19\n",
       "    5 │ Prosecution      Wellington            1                  1  COVID-19  ⋯\n",
       "    6 │ Verbal Warning   Auckland City         8                  1  COVID-19\n",
       "    7 │ Verbal Warning   Auckland City         1                  1  COVID-19\n",
       "    8 │ Verbal Warning   Counties/Manukau      2                  1  COVID-19\n",
       "    9 │ Verbal Warning   Counties/Manukau      1                  1  COVID-19  ⋯\n",
       "   10 │ Verbal Warning   Counties/Manukau      1                  1  COVID-19\n",
       "   11 │ Verbal Warning   Waitemata             1                  1  COVID-19\n",
       "  ⋮   │        ⋮                ⋮            ⋮            ⋮             ⋮      ⋱\n",
       " 1056 │ Youth Referral   Waitemata             2                  1  COVID-19\n",
       " 1057 │ Youth Referral   Waitemata             3                  1  COVID-19  ⋯\n",
       " 1058 │ Youth Referral   Waitemata             2                  1  COVID-19\n",
       " 1059 │ Youth Referral   Waitemata             7                  1  COVID-19\n",
       " 1060 │ Youth Referral   Wellington            1                  1  COVID-19\n",
       " 1061 │ Youth Referral   Wellington            2                  1  COVID-19  ⋯\n",
       " 1062 │ Youth Referral   Wellington            3                  1  COVID-19\n",
       " 1063 │ Youth Referral   Wellington            4                  1  COVID-19\n",
       " 1064 │ Youth Referral   Wellington            4                  1  COVID-19\n",
       " 1065 │ Youth Referral   Wellington           12                  1  COVID-19  ⋯\n",
       "\u001b[36m                                                 5 columns and 1044 rows omitted\u001b[0m"
      ]
     },
     "execution_count": 3,
     "metadata": {},
     "output_type": "execute_result"
    }
   ],
   "source": [
    "# Importing necessary packages: CSV for reading CSV files, DataFrames for working with data frames, and VegaLite for visualization.\n",
    "using CSV, DataFrames, VegaLite\n",
    "\n",
    "# Reading the CSV file \"CT Pie_Full Data_data.csv\" and storing it as a DataFrame named \"df.\"\n",
    "df = CSV.read(\"CT Pie_Full Data_data.csv\", DataFrame)\n",
    "\n"
   ]
  },
  {
   "cell_type": "code",
   "execution_count": 4,
   "id": "904c114b-86aa-4cd7-8f10-76909348be65",
   "metadata": {},
   "outputs": [
    {
     "data": {
      "text/html": [
       "<div><div style = \"float: left;\"><span>10×2 DataFrame</span></div><div style = \"clear: both;\"></div></div><div class = \"data-frame\" style = \"overflow-x: scroll;\"><table class = \"data-frame\" style = \"margin-bottom: 6px;\"><thead><tr class = \"header\"><th class = \"rowNumber\" style = \"font-weight: bold; text-align: right;\">Row</th><th style = \"text-align: left;\">column</th><th style = \"text-align: left;\">missing_count</th></tr><tr class = \"subheader headerLastRow\"><th class = \"rowNumber\" style = \"font-weight: bold; text-align: right;\"></th><th title = \"String\" style = \"text-align: left;\">String</th><th title = \"Int64\" style = \"text-align: left;\">Int64</th></tr></thead><tbody><tr><td class = \"rowNumber\" style = \"font-weight: bold; text-align: right;\">1</td><td style = \"text-align: left;\">Police Action</td><td style = \"text-align: right;\">0</td></tr><tr><td class = \"rowNumber\" style = \"font-weight: bold; text-align: right;\">2</td><td style = \"text-align: left;\">District</td><td style = \"text-align: right;\">0</td></tr><tr><td class = \"rowNumber\" style = \"font-weight: bold; text-align: right;\">3</td><td style = \"text-align: left;\">N</td><td style = \"text-align: right;\">0</td></tr><tr><td class = \"rowNumber\" style = \"font-weight: bold; text-align: right;\">4</td><td style = \"text-align: left;\">Number of Records</td><td style = \"text-align: right;\">0</td></tr><tr><td class = \"rowNumber\" style = \"font-weight: bold; text-align: right;\">5</td><td style = \"text-align: left;\">Period</td><td style = \"text-align: right;\">0</td></tr><tr><td class = \"rowNumber\" style = \"font-weight: bold; text-align: right;\">6</td><td style = \"text-align: left;\">Station</td><td style = \"text-align: right;\">0</td></tr><tr><td class = \"rowNumber\" style = \"font-weight: bold; text-align: right;\">7</td><td style = \"text-align: left;\">Breach Type</td><td style = \"text-align: right;\">0</td></tr><tr><td class = \"rowNumber\" style = \"font-weight: bold; text-align: right;\">8</td><td style = \"text-align: left;\">Country</td><td style = \"text-align: right;\">0</td></tr><tr><td class = \"rowNumber\" style = \"font-weight: bold; text-align: right;\">9</td><td style = \"text-align: left;\">Alert Level</td><td style = \"text-align: right;\">0</td></tr><tr><td class = \"rowNumber\" style = \"font-weight: bold; text-align: right;\">10</td><td style = \"text-align: left;\">Area</td><td style = \"text-align: right;\">0</td></tr></tbody></table></div>"
      ],
      "text/latex": [
       "\\begin{tabular}{r|cc}\n",
       "\t& column & missing\\_count\\\\\n",
       "\t\\hline\n",
       "\t& String & Int64\\\\\n",
       "\t\\hline\n",
       "\t1 & Police Action & 0 \\\\\n",
       "\t2 & District & 0 \\\\\n",
       "\t3 & N & 0 \\\\\n",
       "\t4 & Number of Records & 0 \\\\\n",
       "\t5 & Period & 0 \\\\\n",
       "\t6 & Station & 0 \\\\\n",
       "\t7 & Breach Type & 0 \\\\\n",
       "\t8 & Country & 0 \\\\\n",
       "\t9 & Alert Level & 0 \\\\\n",
       "\t10 & Area & 0 \\\\\n",
       "\\end{tabular}\n"
      ],
      "text/plain": [
       "\u001b[1m10×2 DataFrame\u001b[0m\n",
       "\u001b[1m Row \u001b[0m│\u001b[1m column            \u001b[0m\u001b[1m missing_count \u001b[0m\n",
       "     │\u001b[90m String            \u001b[0m\u001b[90m Int64         \u001b[0m\n",
       "─────┼──────────────────────────────────\n",
       "   1 │ Police Action                  0\n",
       "   2 │ District                       0\n",
       "   3 │ N                              0\n",
       "   4 │ Number of Records              0\n",
       "   5 │ Period                         0\n",
       "   6 │ Station                        0\n",
       "   7 │ Breach Type                    0\n",
       "   8 │ Country                        0\n",
       "   9 │ Alert Level                    0\n",
       "  10 │ Area                           0"
      ]
     },
     "execution_count": 4,
     "metadata": {},
     "output_type": "execute_result"
    }
   ],
   "source": [
    "# Checking for missing values in each column and create a DataFrame\n",
    "missing_counts = DataFrame(\n",
    "    column = names(df),  # Extracting column names\n",
    "    missing_count = [sum(ismissing.(df[!, col])) for col in names(df)]  # Calculate the count of missing values per column\n",
    ")\n",
    "\n"
   ]
  },
  {
   "cell_type": "code",
   "execution_count": 5,
   "id": "e3fae2b7-d976-42b8-aad9-968ba7335442",
   "metadata": {},
   "outputs": [
    {
     "name": "stdout",
     "output_type": "stream",
     "text": [
      "No duplicate rows found.\n"
     ]
    }
   ],
   "source": [
    "# Finding duplicate rows by comparing all rows to the first row\n",
    "duplicate_rows = [isequal(df[1, :], df[i, :]) for i in 2:size(df, 1)]\n",
    "\n",
    "# Displaying the duplicate rows\n",
    "if any(duplicate_rows)\n",
    "    println(\"Duplicate Rows:\")\n",
    "    display(df[duplicate_rows, :])\n",
    "else\n",
    "    println(\"No duplicate rows found.\")\n",
    "end"
   ]
  },
  {
   "cell_type": "code",
   "execution_count": 6,
   "id": "02841d02-0526-4073-a98c-ccd01f267124",
   "metadata": {},
   "outputs": [
    {
     "data": {
      "text/html": [
       "<p><b>GroupedDataFrame with 26 groups based on keys: District, Breach Type</b></p><div><div style = \"float: left;\"><span>First Group (2 rows): District = &quot;Canterbury&quot;, Breach Type = &quot;Failing to Comply with a COVID-19 Direction/Prohibition/Restriction&quot;</span></div><div style = \"clear: both;\"></div></div><div class = \"data-frame\" style = \"overflow-x: scroll;\"><table class = \"data-frame\" style = \"margin-bottom: 6px;\"><thead><tr class = \"header\"><th class = \"rowNumber\" style = \"font-weight: bold; text-align: right;\">Row</th><th style = \"text-align: left;\">Police Action</th><th style = \"text-align: left;\">District</th><th style = \"text-align: left;\">N</th><th style = \"text-align: left;\">Number of Records</th><th style = \"text-align: left;\">Period</th><th style = \"text-align: left;\">Station</th><th style = \"text-align: left;\">Breach Type</th><th style = \"text-align: left;\">Country</th><th style = \"text-align: left;\">Alert Level</th><th style = \"text-align: left;\">Area</th></tr><tr class = \"subheader headerLastRow\"><th class = \"rowNumber\" style = \"font-weight: bold; text-align: right;\"></th><th title = \"String15\" style = \"text-align: left;\">String15</th><th title = \"String31\" style = \"text-align: left;\">String31</th><th title = \"Int64\" style = \"text-align: left;\">Int64</th><th title = \"Int64\" style = \"text-align: left;\">Int64</th><th title = \"String15\" style = \"text-align: left;\">String15</th><th title = \"String31\" style = \"text-align: left;\">String31</th><th title = \"String\" style = \"text-align: left;\">String</th><th title = \"String15\" style = \"text-align: left;\">String15</th><th title = \"Int64\" style = \"text-align: left;\">Int64</th><th title = \"String31\" style = \"text-align: left;\">String31</th></tr></thead><tbody><tr><td class = \"rowNumber\" style = \"font-weight: bold; text-align: right;\">1</td><td style = \"text-align: left;\">Prosecution</td><td style = \"text-align: left;\">Canterbury</td><td style = \"text-align: right;\">1</td><td style = \"text-align: right;\">1</td><td style = \"text-align: left;\">COVID-19</td><td style = \"text-align: left;\">Hornby</td><td style = \"text-align: left;\">Failing to Comply with a COVID-19 Direction/Prohibition/Restriction</td><td style = \"text-align: left;\">New Zealand</td><td style = \"text-align: right;\">2</td><td style = \"text-align: left;\">Canterbury Metro Area</td></tr><tr><td class = \"rowNumber\" style = \"font-weight: bold; text-align: right;\">2</td><td style = \"text-align: left;\">Written Warning</td><td style = \"text-align: left;\">Canterbury</td><td style = \"text-align: right;\">3</td><td style = \"text-align: right;\">1</td><td style = \"text-align: left;\">COVID-19</td><td style = \"text-align: left;\">Hornby</td><td style = \"text-align: left;\">Failing to Comply with a COVID-19 Direction/Prohibition/Restriction</td><td style = \"text-align: left;\">New Zealand</td><td style = \"text-align: right;\">2</td><td style = \"text-align: left;\">Canterbury Metro Area</td></tr></tbody></table></div><p>&vellip;</p><div><div style = \"float: left;\"><span>Last Group (9 rows): District = &quot;Southern&quot;, Breach Type = &quot;CDEM Breach&quot;</span></div><div style = \"clear: both;\"></div></div><div class = \"data-frame\" style = \"overflow-x: scroll;\"><table class = \"data-frame\" style = \"margin-bottom: 6px;\"><thead><tr class = \"header\"><th class = \"rowNumber\" style = \"font-weight: bold; text-align: right;\">Row</th><th style = \"text-align: left;\">Police Action</th><th style = \"text-align: left;\">District</th><th style = \"text-align: left;\">N</th><th style = \"text-align: left;\">Number of Records</th><th style = \"text-align: left;\">Period</th><th style = \"text-align: left;\">Station</th><th style = \"text-align: left;\">Breach Type</th><th style = \"text-align: left;\">Country</th><th style = \"text-align: left;\">Alert Level</th><th style = \"text-align: left;\">Area</th></tr><tr class = \"subheader headerLastRow\"><th class = \"rowNumber\" style = \"font-weight: bold; text-align: right;\"></th><th title = \"String15\" style = \"text-align: left;\">String15</th><th title = \"String31\" style = \"text-align: left;\">String31</th><th title = \"Int64\" style = \"text-align: left;\">Int64</th><th title = \"Int64\" style = \"text-align: left;\">Int64</th><th title = \"String15\" style = \"text-align: left;\">String15</th><th title = \"String31\" style = \"text-align: left;\">String31</th><th title = \"String\" style = \"text-align: left;\">String</th><th title = \"String15\" style = \"text-align: left;\">String15</th><th title = \"Int64\" style = \"text-align: left;\">Int64</th><th title = \"String31\" style = \"text-align: left;\">String31</th></tr></thead><tbody><tr><td class = \"rowNumber\" style = \"font-weight: bold; text-align: right;\">1</td><td style = \"text-align: left;\">Prosecution</td><td style = \"text-align: left;\">Southern</td><td style = \"text-align: right;\">1</td><td style = \"text-align: right;\">1</td><td style = \"text-align: left;\">COVID-19</td><td style = \"text-align: left;\">Invercargill Central</td><td style = \"text-align: left;\">CDEM Breach</td><td style = \"text-align: left;\">New Zealand</td><td style = \"text-align: right;\">4</td><td style = \"text-align: left;\">Southland Area</td></tr><tr><td class = \"rowNumber\" style = \"font-weight: bold; text-align: right;\">2</td><td style = \"text-align: left;\">Prosecution</td><td style = \"text-align: left;\">Southern</td><td style = \"text-align: right;\">1</td><td style = \"text-align: right;\">1</td><td style = \"text-align: left;\">COVID-19</td><td style = \"text-align: left;\">Te Anau</td><td style = \"text-align: left;\">CDEM Breach</td><td style = \"text-align: left;\">New Zealand</td><td style = \"text-align: right;\">4</td><td style = \"text-align: left;\">Southland Area</td></tr><tr><td class = \"rowNumber\" style = \"font-weight: bold; text-align: right;\">3</td><td style = \"text-align: left;\">Verbal Warning</td><td style = \"text-align: left;\">Southern</td><td style = \"text-align: right;\">1</td><td style = \"text-align: right;\">1</td><td style = \"text-align: left;\">COVID-19</td><td style = \"text-align: left;\">Balclutha</td><td style = \"text-align: left;\">CDEM Breach</td><td style = \"text-align: left;\">New Zealand</td><td style = \"text-align: right;\">4</td><td style = \"text-align: left;\">Otago Coastal Area</td></tr><tr><td class = \"rowNumber\" style = \"font-weight: bold; text-align: right;\">4</td><td style = \"text-align: left;\">Verbal Warning</td><td style = \"text-align: left;\">Southern</td><td style = \"text-align: right;\">2</td><td style = \"text-align: right;\">1</td><td style = \"text-align: left;\">COVID-19</td><td style = \"text-align: left;\">Riversdale</td><td style = \"text-align: left;\">CDEM Breach</td><td style = \"text-align: left;\">New Zealand</td><td style = \"text-align: right;\">4</td><td style = \"text-align: left;\">Southland Area</td></tr><tr><td class = \"rowNumber\" style = \"font-weight: bold; text-align: right;\">5</td><td style = \"text-align: left;\">Verbal Warning</td><td style = \"text-align: left;\">Southern</td><td style = \"text-align: right;\">2</td><td style = \"text-align: right;\">1</td><td style = \"text-align: left;\">COVID-19</td><td style = \"text-align: left;\">Te Anau</td><td style = \"text-align: left;\">CDEM Breach</td><td style = \"text-align: left;\">New Zealand</td><td style = \"text-align: right;\">4</td><td style = \"text-align: left;\">Southland Area</td></tr><tr><td class = \"rowNumber\" style = \"font-weight: bold; text-align: right;\">6</td><td style = \"text-align: left;\">Written Warning</td><td style = \"text-align: left;\">Southern</td><td style = \"text-align: right;\">1</td><td style = \"text-align: right;\">1</td><td style = \"text-align: left;\">COVID-19</td><td style = \"text-align: left;\">Alexandra</td><td style = \"text-align: left;\">CDEM Breach</td><td style = \"text-align: left;\">New Zealand</td><td style = \"text-align: right;\">4</td><td style = \"text-align: left;\">Otago Lakes Central Area</td></tr><tr><td class = \"rowNumber\" style = \"font-weight: bold; text-align: right;\">7</td><td style = \"text-align: left;\">Written Warning</td><td style = \"text-align: left;\">Southern</td><td style = \"text-align: right;\">4</td><td style = \"text-align: right;\">1</td><td style = \"text-align: left;\">COVID-19</td><td style = \"text-align: left;\">Invercargill Central</td><td style = \"text-align: left;\">CDEM Breach</td><td style = \"text-align: left;\">New Zealand</td><td style = \"text-align: right;\">4</td><td style = \"text-align: left;\">Southland Area</td></tr><tr><td class = \"rowNumber\" style = \"font-weight: bold; text-align: right;\">8</td><td style = \"text-align: left;\">Written Warning</td><td style = \"text-align: left;\">Southern</td><td style = \"text-align: right;\">1</td><td style = \"text-align: right;\">1</td><td style = \"text-align: left;\">COVID-19</td><td style = \"text-align: left;\">Riversdale</td><td style = \"text-align: left;\">CDEM Breach</td><td style = \"text-align: left;\">New Zealand</td><td style = \"text-align: right;\">4</td><td style = \"text-align: left;\">Southland Area</td></tr><tr><td class = \"rowNumber\" style = \"font-weight: bold; text-align: right;\">9</td><td style = \"text-align: left;\">Youth Referral</td><td style = \"text-align: left;\">Southern</td><td style = \"text-align: right;\">1</td><td style = \"text-align: right;\">1</td><td style = \"text-align: left;\">COVID-19</td><td style = \"text-align: left;\">Invercargill Central</td><td style = \"text-align: left;\">CDEM Breach</td><td style = \"text-align: left;\">New Zealand</td><td style = \"text-align: right;\">4</td><td style = \"text-align: left;\">Southland Area</td></tr></tbody></table></div>"
      ],
      "text/latex": [
       "GroupedDataFrame with 26 groups based on keys: District, Breach Type\n",
       "\n",
       "First Group (2 rows): District = \"Canterbury\", Breach Type = \"Failing to Comply with a COVID-19 Direction/Prohibition/Restriction\"\n",
       "\n",
       "\\begin{tabular}{r|cccccccc}\n",
       "\t& Police Action & District & N & Number of Records & Period & Station & Breach Type & \\\\\n",
       "\t\\hline\n",
       "\t& String15 & String31 & Int64 & Int64 & String15 & String31 & String & \\\\\n",
       "\t\\hline\n",
       "\t1 & Prosecution & Canterbury & 1 & 1 & COVID-19 & Hornby & Failing to Comply with a COVID-19 Direction/Prohibition/Restriction & $\\dots$ \\\\\n",
       "\t2 & Written Warning & Canterbury & 3 & 1 & COVID-19 & Hornby & Failing to Comply with a COVID-19 Direction/Prohibition/Restriction & $\\dots$ \\\\\n",
       "\\end{tabular}\n",
       "\n",
       "$\\dots$\n",
       "\n",
       "Last Group (9 rows): District = \"Southern\", Breach Type = \"CDEM Breach\"\n",
       "\n",
       "\\begin{tabular}{r|ccccccc}\n",
       "\t& Police Action & District & N & Number of Records & Period & Station & \\\\\n",
       "\t\\hline\n",
       "\t& String15 & String31 & Int64 & Int64 & String15 & String31 & \\\\\n",
       "\t\\hline\n",
       "\t1 & Prosecution & Southern & 1 & 1 & COVID-19 & Invercargill Central & $\\dots$ \\\\\n",
       "\t2 & Prosecution & Southern & 1 & 1 & COVID-19 & Te Anau & $\\dots$ \\\\\n",
       "\t3 & Verbal Warning & Southern & 1 & 1 & COVID-19 & Balclutha & $\\dots$ \\\\\n",
       "\t4 & Verbal Warning & Southern & 2 & 1 & COVID-19 & Riversdale & $\\dots$ \\\\\n",
       "\t5 & Verbal Warning & Southern & 2 & 1 & COVID-19 & Te Anau & $\\dots$ \\\\\n",
       "\t6 & Written Warning & Southern & 1 & 1 & COVID-19 & Alexandra & $\\dots$ \\\\\n",
       "\t7 & Written Warning & Southern & 4 & 1 & COVID-19 & Invercargill Central & $\\dots$ \\\\\n",
       "\t8 & Written Warning & Southern & 1 & 1 & COVID-19 & Riversdale & $\\dots$ \\\\\n",
       "\t9 & Youth Referral & Southern & 1 & 1 & COVID-19 & Invercargill Central & $\\dots$ \\\\\n",
       "\\end{tabular}\n"
      ],
      "text/plain": [
       "GroupedDataFrame with 26 groups based on keys: District, Breach Type\n",
       "First Group (2 rows): District = \"Canterbury\", Breach Type = \"Failing to Comply with a COVID-19 Direction/Prohibition/Restriction\"\n",
       "\u001b[1m Row \u001b[0m│\u001b[1m Police Action   \u001b[0m\u001b[1m District   \u001b[0m\u001b[1m N     \u001b[0m\u001b[1m Number of Records \u001b[0m\u001b[1m Period   \u001b[0m\u001b[1m Statio\u001b[0m ⋯\n",
       "     │\u001b[90m String15        \u001b[0m\u001b[90m String31   \u001b[0m\u001b[90m Int64 \u001b[0m\u001b[90m Int64             \u001b[0m\u001b[90m String15 \u001b[0m\u001b[90m String\u001b[0m ⋯\n",
       "─────┼──────────────────────────────────────────────────────────────────────────\n",
       "  ⋮  │        ⋮             ⋮         ⋮            ⋮             ⋮         ⋮   ⋱\n",
       "\u001b[36m                                                    5 columns and 2 rows omitted\u001b[0m\n",
       "⋮\n",
       "Last Group (9 rows): District = \"Southern\", Breach Type = \"CDEM Breach\"\n",
       "\u001b[1m Row \u001b[0m│\u001b[1m Police Action   \u001b[0m\u001b[1m District \u001b[0m\u001b[1m N     \u001b[0m\u001b[1m Number of Records \u001b[0m\u001b[1m Period   \u001b[0m\u001b[1m Station \u001b[0m ⋯\n",
       "     │\u001b[90m String15        \u001b[0m\u001b[90m String31 \u001b[0m\u001b[90m Int64 \u001b[0m\u001b[90m Int64             \u001b[0m\u001b[90m String15 \u001b[0m\u001b[90m String31\u001b[0m ⋯\n",
       "─────┼──────────────────────────────────────────────────────────────────────────\n",
       "   1 │ Prosecution      Southern      1                  1  COVID-19  Invercar ⋯\n",
       "   2 │ Prosecution      Southern      1                  1  COVID-19  Te Anau\n",
       "   3 │ Verbal Warning   Southern      1                  1  COVID-19  Balcluth\n",
       "   4 │ Verbal Warning   Southern      2                  1  COVID-19  Riversda\n",
       "  ⋮  │        ⋮            ⋮        ⋮            ⋮             ⋮               ⋱\n",
       "   7 │ Written Warning  Southern      4                  1  COVID-19  Invercar ⋯\n",
       "   8 │ Written Warning  Southern      1                  1  COVID-19  Riversda\n",
       "   9 │ Youth Referral   Southern      1                  1  COVID-19  Invercar\n",
       "\u001b[36m                                                    5 columns and 2 rows omitted\u001b[0m"
      ]
     },
     "execution_count": 6,
     "metadata": {},
     "output_type": "execute_result"
    }
   ],
   "source": [
    "# Grouping the data by 'District' and 'Breach Type'\n",
    "grouped_data = groupby(df, [:District, Symbol(\"Breach Type\")])\n",
    "\n",
    "# This code groups the DataFrame 'df' by the columns 'District' and 'Breach Type'.\n",
    "# It creates a new DataFrame 'grouped_data' that contains groups of data based on these two columns.\n"
   ]
  },
  {
   "cell_type": "code",
   "execution_count": 7,
   "id": "ad3d683e-4a50-4965-871b-d73e7e3ef809",
   "metadata": {},
   "outputs": [
    {
     "data": {
      "text/html": [
       "<div><div style = \"float: left;\"><span>26×3 DataFrame</span></div><div style = \"clear: both;\"></div></div><div class = \"data-frame\" style = \"overflow-x: scroll;\"><table class = \"data-frame\" style = \"margin-bottom: 6px;\"><thead><tr class = \"header\"><th class = \"rowNumber\" style = \"font-weight: bold; text-align: right;\">Row</th><th style = \"text-align: left;\">District</th><th style = \"text-align: left;\">Breach Type</th><th style = \"text-align: left;\">Count</th></tr><tr class = \"subheader headerLastRow\"><th class = \"rowNumber\" style = \"font-weight: bold; text-align: right;\"></th><th title = \"String31\" style = \"text-align: left;\">String31</th><th title = \"String\" style = \"text-align: left;\">String</th><th title = \"Int64\" style = \"text-align: left;\">Int64</th></tr></thead><tbody><tr><td class = \"rowNumber\" style = \"font-weight: bold; text-align: right;\">1</td><td style = \"text-align: left;\">Canterbury</td><td style = \"text-align: left;\">Failing to Comply with a COVID-19 Direction/Prohibition/Restriction</td><td style = \"text-align: right;\">2</td></tr><tr><td class = \"rowNumber\" style = \"font-weight: bold; text-align: right;\">2</td><td style = \"text-align: left;\">Canterbury</td><td style = \"text-align: left;\">Health Act Breach</td><td style = \"text-align: right;\">78</td></tr><tr><td class = \"rowNumber\" style = \"font-weight: bold; text-align: right;\">3</td><td style = \"text-align: left;\">Canterbury</td><td style = \"text-align: left;\">CDEM Breach</td><td style = \"text-align: right;\">3</td></tr><tr><td class = \"rowNumber\" style = \"font-weight: bold; text-align: right;\">4</td><td style = \"text-align: left;\">Auckland City</td><td style = \"text-align: left;\">Failing to Comply with a COVID-19 Direction/Prohibition/Restriction</td><td style = \"text-align: right;\">1</td></tr><tr><td class = \"rowNumber\" style = \"font-weight: bold; text-align: right;\">5</td><td style = \"text-align: left;\">Auckland City</td><td style = \"text-align: left;\">Health Act Breach</td><td style = \"text-align: right;\">54</td></tr><tr><td class = \"rowNumber\" style = \"font-weight: bold; text-align: right;\">6</td><td style = \"text-align: left;\">Auckland City</td><td style = \"text-align: left;\">CDEM Breach</td><td style = \"text-align: right;\">10</td></tr><tr><td class = \"rowNumber\" style = \"font-weight: bold; text-align: right;\">7</td><td style = \"text-align: left;\">Wellington</td><td style = \"text-align: left;\">Health Act Breach</td><td style = \"text-align: right;\">77</td></tr><tr><td class = \"rowNumber\" style = \"font-weight: bold; text-align: right;\">8</td><td style = \"text-align: left;\">Wellington</td><td style = \"text-align: left;\">CDEM Breach</td><td style = \"text-align: right;\">26</td></tr><tr><td class = \"rowNumber\" style = \"font-weight: bold; text-align: right;\">9</td><td style = \"text-align: left;\">Counties/Manukau</td><td style = \"text-align: left;\">Health Act Breach</td><td style = \"text-align: right;\">81</td></tr><tr><td class = \"rowNumber\" style = \"font-weight: bold; text-align: right;\">10</td><td style = \"text-align: left;\">Counties/Manukau</td><td style = \"text-align: left;\">CDEM Breach</td><td style = \"text-align: right;\">13</td></tr><tr><td class = \"rowNumber\" style = \"font-weight: bold; text-align: right;\">11</td><td style = \"text-align: left;\">Waitemata</td><td style = \"text-align: left;\">Health Act Breach</td><td style = \"text-align: right;\">62</td></tr><tr><td class = \"rowNumber\" style = \"font-weight: bold; text-align: right;\">12</td><td style = \"text-align: left;\">Waitemata</td><td style = \"text-align: left;\">CDEM Breach</td><td style = \"text-align: right;\">8</td></tr><tr><td class = \"rowNumber\" style = \"font-weight: bold; text-align: right;\">13</td><td style = \"text-align: left;\">Bay Of Plenty</td><td style = \"text-align: left;\">Health Act Breach</td><td style = \"text-align: right;\">74</td></tr><tr><td class = \"rowNumber\" style = \"font-weight: bold; text-align: right;\">14</td><td style = \"text-align: left;\">Bay Of Plenty</td><td style = \"text-align: left;\">CDEM Breach</td><td style = \"text-align: right;\">13</td></tr><tr><td class = \"rowNumber\" style = \"font-weight: bold; text-align: right;\">15</td><td style = \"text-align: left;\">Tasman</td><td style = \"text-align: left;\">Health Act Breach</td><td style = \"text-align: right;\">61</td></tr><tr><td class = \"rowNumber\" style = \"font-weight: bold; text-align: right;\">16</td><td style = \"text-align: left;\">Tasman</td><td style = \"text-align: left;\">CDEM Breach</td><td style = \"text-align: right;\">10</td></tr><tr><td class = \"rowNumber\" style = \"font-weight: bold; text-align: right;\">17</td><td style = \"text-align: left;\">Waikato</td><td style = \"text-align: left;\">Health Act Breach</td><td style = \"text-align: right;\">87</td></tr><tr><td class = \"rowNumber\" style = \"font-weight: bold; text-align: right;\">18</td><td style = \"text-align: left;\">Waikato</td><td style = \"text-align: left;\">CDEM Breach</td><td style = \"text-align: right;\">31</td></tr><tr><td class = \"rowNumber\" style = \"font-weight: bold; text-align: right;\">19</td><td style = \"text-align: left;\">Central</td><td style = \"text-align: left;\">Health Act Breach</td><td style = \"text-align: right;\">118</td></tr><tr><td class = \"rowNumber\" style = \"font-weight: bold; text-align: right;\">20</td><td style = \"text-align: left;\">Central</td><td style = \"text-align: left;\">CDEM Breach</td><td style = \"text-align: right;\">12</td></tr><tr><td class = \"rowNumber\" style = \"font-weight: bold; text-align: right;\">21</td><td style = \"text-align: left;\">Eastern</td><td style = \"text-align: left;\">Health Act Breach</td><td style = \"text-align: right;\">54</td></tr><tr><td class = \"rowNumber\" style = \"font-weight: bold; text-align: right;\">22</td><td style = \"text-align: left;\">Eastern</td><td style = \"text-align: left;\">CDEM Breach</td><td style = \"text-align: right;\">10</td></tr><tr><td class = \"rowNumber\" style = \"font-weight: bold; text-align: right;\">23</td><td style = \"text-align: left;\">Northland</td><td style = \"text-align: left;\">Health Act Breach</td><td style = \"text-align: right;\">43</td></tr><tr><td class = \"rowNumber\" style = \"font-weight: bold; text-align: right;\">24</td><td style = \"text-align: left;\">Northland</td><td style = \"text-align: left;\">CDEM Breach</td><td style = \"text-align: right;\">13</td></tr><tr><td class = \"rowNumber\" style = \"font-weight: bold; text-align: right;\">25</td><td style = \"text-align: left;\">Southern</td><td style = \"text-align: left;\">Health Act Breach</td><td style = \"text-align: right;\">115</td></tr><tr><td class = \"rowNumber\" style = \"font-weight: bold; text-align: right;\">26</td><td style = \"text-align: left;\">Southern</td><td style = \"text-align: left;\">CDEM Breach</td><td style = \"text-align: right;\">9</td></tr></tbody></table></div>"
      ],
      "text/latex": [
       "\\begin{tabular}{r|ccc}\n",
       "\t& District & Breach Type & \\\\\n",
       "\t\\hline\n",
       "\t& String31 & String & \\\\\n",
       "\t\\hline\n",
       "\t1 & Canterbury & Failing to Comply with a COVID-19 Direction/Prohibition/Restriction & $\\dots$ \\\\\n",
       "\t2 & Canterbury & Health Act Breach & $\\dots$ \\\\\n",
       "\t3 & Canterbury & CDEM Breach & $\\dots$ \\\\\n",
       "\t4 & Auckland City & Failing to Comply with a COVID-19 Direction/Prohibition/Restriction & $\\dots$ \\\\\n",
       "\t5 & Auckland City & Health Act Breach & $\\dots$ \\\\\n",
       "\t6 & Auckland City & CDEM Breach & $\\dots$ \\\\\n",
       "\t7 & Wellington & Health Act Breach & $\\dots$ \\\\\n",
       "\t8 & Wellington & CDEM Breach & $\\dots$ \\\\\n",
       "\t9 & Counties/Manukau & Health Act Breach & $\\dots$ \\\\\n",
       "\t10 & Counties/Manukau & CDEM Breach & $\\dots$ \\\\\n",
       "\t11 & Waitemata & Health Act Breach & $\\dots$ \\\\\n",
       "\t12 & Waitemata & CDEM Breach & $\\dots$ \\\\\n",
       "\t13 & Bay Of Plenty & Health Act Breach & $\\dots$ \\\\\n",
       "\t14 & Bay Of Plenty & CDEM Breach & $\\dots$ \\\\\n",
       "\t15 & Tasman & Health Act Breach & $\\dots$ \\\\\n",
       "\t16 & Tasman & CDEM Breach & $\\dots$ \\\\\n",
       "\t17 & Waikato & Health Act Breach & $\\dots$ \\\\\n",
       "\t18 & Waikato & CDEM Breach & $\\dots$ \\\\\n",
       "\t19 & Central & Health Act Breach & $\\dots$ \\\\\n",
       "\t20 & Central & CDEM Breach & $\\dots$ \\\\\n",
       "\t21 & Eastern & Health Act Breach & $\\dots$ \\\\\n",
       "\t22 & Eastern & CDEM Breach & $\\dots$ \\\\\n",
       "\t23 & Northland & Health Act Breach & $\\dots$ \\\\\n",
       "\t24 & Northland & CDEM Breach & $\\dots$ \\\\\n",
       "\t25 & Southern & Health Act Breach & $\\dots$ \\\\\n",
       "\t26 & Southern & CDEM Breach & $\\dots$ \\\\\n",
       "\\end{tabular}\n"
      ],
      "text/plain": [
       "\u001b[1m26×3 DataFrame\u001b[0m\n",
       "\u001b[1m Row \u001b[0m│\u001b[1m District         \u001b[0m\u001b[1m Breach Type                       \u001b[0m\u001b[1m Count \u001b[0m\n",
       "     │\u001b[90m String31         \u001b[0m\u001b[90m String                            \u001b[0m\u001b[90m Int64 \u001b[0m\n",
       "─────┼────────────────────────────────────────────────────────────\n",
       "   1 │ Canterbury        Failing to Comply with a COVID-1…      2\n",
       "   2 │ Canterbury        Health Act Breach                     78\n",
       "   3 │ Canterbury        CDEM Breach                            3\n",
       "   4 │ Auckland City     Failing to Comply with a COVID-1…      1\n",
       "   5 │ Auckland City     Health Act Breach                     54\n",
       "   6 │ Auckland City     CDEM Breach                           10\n",
       "   7 │ Wellington        Health Act Breach                     77\n",
       "   8 │ Wellington        CDEM Breach                           26\n",
       "   9 │ Counties/Manukau  Health Act Breach                     81\n",
       "  10 │ Counties/Manukau  CDEM Breach                           13\n",
       "  11 │ Waitemata         Health Act Breach                     62\n",
       "  ⋮  │        ⋮                          ⋮                    ⋮\n",
       "  17 │ Waikato           Health Act Breach                     87\n",
       "  18 │ Waikato           CDEM Breach                           31\n",
       "  19 │ Central           Health Act Breach                    118\n",
       "  20 │ Central           CDEM Breach                           12\n",
       "  21 │ Eastern           Health Act Breach                     54\n",
       "  22 │ Eastern           CDEM Breach                           10\n",
       "  23 │ Northland         Health Act Breach                     43\n",
       "  24 │ Northland         CDEM Breach                           13\n",
       "  25 │ Southern          Health Act Breach                    115\n",
       "  26 │ Southern          CDEM Breach                            9\n",
       "\u001b[36m                                                    5 rows omitted\u001b[0m"
      ]
     },
     "execution_count": 7,
     "metadata": {},
     "output_type": "execute_result"
    }
   ],
   "source": [
    "# Counting the number of occurrences for each breach type in each region\n",
    "count_by_region_and_type = combine(grouped_data, nrow => :Count)\n",
    "\n",
    "# This code takes the 'grouped_data' DataFrame and uses the 'combine' function to count the number of rows in each group.\n",
    "# The result is stored in a new DataFrame called 'count_by_region_and_type' with a column named 'Count'.\n"
   ]
  },
  {
   "cell_type": "code",
   "execution_count": 13,
   "id": "dcec7ebd-b97b-4533-b6dc-1adf2d28bec9",
   "metadata": {},
   "outputs": [
    {
     "data": {
      "application/vnd.vega.v5+json": {
       "$schema": "https://vega.github.io/schema/vega/v5.json",
       "axes": [
        {
         "aria": false,
         "domain": false,
         "grid": true,
         "gridScale": "x",
         "labels": false,
         "maxExtent": 0,
         "minExtent": 0,
         "orient": "left",
         "scale": "y",
         "tickCount": {
          "signal": "ceil(height/40)"
         },
         "ticks": false,
         "zindex": 0
        },
        {
         "grid": false,
         "labelAlign": "right",
         "labelAngle": 270,
         "labelBaseline": "middle",
         "orient": "bottom",
         "scale": "x",
         "title": "District",
         "zindex": 0
        },
        {
         "grid": false,
         "labelOverlap": true,
         "orient": "left",
         "scale": "y",
         "tickCount": {
          "signal": "ceil(height/40)"
         },
         "title": "Count",
         "zindex": 0
        }
       ],
       "background": "white",
       "data": [
        {
         "name": "source_0",
         "values": [
          {
           "Breach Type": "Failing to Comply with a COVID-19 Direction/Prohibition/Restriction",
           "Count": 2,
           "District": "Canterbury"
          },
          {
           "Breach Type": "Health Act Breach",
           "Count": 78,
           "District": "Canterbury"
          },
          {
           "Breach Type": "CDEM Breach",
           "Count": 3,
           "District": "Canterbury"
          },
          {
           "Breach Type": "Failing to Comply with a COVID-19 Direction/Prohibition/Restriction",
           "Count": 1,
           "District": "Auckland City"
          },
          {
           "Breach Type": "Health Act Breach",
           "Count": 54,
           "District": "Auckland City"
          },
          {
           "Breach Type": "CDEM Breach",
           "Count": 10,
           "District": "Auckland City"
          },
          {
           "Breach Type": "Health Act Breach",
           "Count": 77,
           "District": "Wellington"
          },
          {
           "Breach Type": "CDEM Breach",
           "Count": 26,
           "District": "Wellington"
          },
          {
           "Breach Type": "Health Act Breach",
           "Count": 81,
           "District": "Counties/Manukau"
          },
          {
           "Breach Type": "CDEM Breach",
           "Count": 13,
           "District": "Counties/Manukau"
          },
          {
           "Breach Type": "Health Act Breach",
           "Count": 62,
           "District": "Waitemata"
          },
          {
           "Breach Type": "CDEM Breach",
           "Count": 8,
           "District": "Waitemata"
          },
          {
           "Breach Type": "Health Act Breach",
           "Count": 74,
           "District": "Bay Of Plenty"
          },
          {
           "Breach Type": "CDEM Breach",
           "Count": 13,
           "District": "Bay Of Plenty"
          },
          {
           "Breach Type": "Health Act Breach",
           "Count": 61,
           "District": "Tasman"
          },
          {
           "Breach Type": "CDEM Breach",
           "Count": 10,
           "District": "Tasman"
          },
          {
           "Breach Type": "Health Act Breach",
           "Count": 87,
           "District": "Waikato"
          },
          {
           "Breach Type": "CDEM Breach",
           "Count": 31,
           "District": "Waikato"
          },
          {
           "Breach Type": "Health Act Breach",
           "Count": 118,
           "District": "Central"
          },
          {
           "Breach Type": "CDEM Breach",
           "Count": 12,
           "District": "Central"
          },
          {
           "Breach Type": "Health Act Breach",
           "Count": 54,
           "District": "Eastern"
          },
          {
           "Breach Type": "CDEM Breach",
           "Count": 10,
           "District": "Eastern"
          },
          {
           "Breach Type": "Health Act Breach",
           "Count": 43,
           "District": "Northland"
          },
          {
           "Breach Type": "CDEM Breach",
           "Count": 13,
           "District": "Northland"
          },
          {
           "Breach Type": "Health Act Breach",
           "Count": 115,
           "District": "Southern"
          },
          {
           "Breach Type": "CDEM Breach",
           "Count": 9,
           "District": "Southern"
          }
         ]
        },
        {
         "name": "data_0",
         "source": "source_0",
         "transform": [
          {
           "as": [
            "Count_start",
            "Count_end"
           ],
           "field": "Count",
           "groupby": [
            "District"
           ],
           "offset": "zero",
           "sort": {
            "field": [
             "Breach Type"
            ],
            "order": [
             "descending"
            ]
           },
           "type": "stack"
          },
          {
           "expr": "isValid(datum[\"Count\"]) && isFinite(+datum[\"Count\"])",
           "type": "filter"
          }
         ]
        }
       ],
       "height": 400,
       "legends": [
        {
         "fill": "color",
         "symbolType": "square",
         "title": "Breach Type"
        }
       ],
       "marks": [
        {
         "encode": {
          "update": {
           "ariaRoleDescription": {
            "value": "bar"
           },
           "description": {
            "signal": "\"District: \" + (isValid(datum[\"District\"]) ? datum[\"District\"] : \"\"+datum[\"District\"]) + \"; Count: \" + (format(datum[\"Count\"], \"\")) + \"; Breach Type: \" + (isValid(datum[\"Breach Type\"]) ? datum[\"Breach Type\"] : \"\"+datum[\"Breach Type\"])"
           },
           "fill": {
            "field": "Breach Type",
            "scale": "color"
           },
           "width": {
            "signal": "max(0.25, bandwidth('x'))"
           },
           "x": {
            "field": "District",
            "scale": "x"
           },
           "y": {
            "field": "Count_end",
            "scale": "y"
           },
           "y2": {
            "field": "Count_start",
            "scale": "y"
           }
          }
         },
         "from": {
          "data": "data_0"
         },
         "name": "marks",
         "style": [
          "bar"
         ],
         "type": "rect"
        }
       ],
       "padding": 5,
       "scales": [
        {
         "domain": {
          "data": "data_0",
          "field": "District",
          "sort": true
         },
         "name": "x",
         "paddingInner": 0.1,
         "paddingOuter": 0.05,
         "range": [
          0,
          {
           "signal": "width"
          }
         ],
         "type": "band"
        },
        {
         "domain": {
          "data": "data_0",
          "fields": [
           "Count_start",
           "Count_end"
          ]
         },
         "name": "y",
         "nice": true,
         "range": [
          {
           "signal": "height"
          },
          0
         ],
         "type": "linear",
         "zero": true
        },
        {
         "domain": {
          "data": "data_0",
          "field": "Breach Type",
          "sort": true
         },
         "name": "color",
         "range": "category",
         "type": "ordinal"
        }
       ],
       "style": "cell",
       "width": 600
      },
      "image/png": "[encoded data removed]",
      "image/svg+xml": [
       "<svg xmlns=\"http://www.w3.org/2000/svg\" xmlns:xlink=\"http://www.w3.org/1999/xlink\" version=\"1.1\" class=\"marks\" width=\"843\" height=\"521\" viewBox=\"0 0 843 521\"><rect width=\"843\" height=\"521\" fill=\"white\"/><g fill=\"none\" stroke-miterlimit=\"10\" transform=\"translate(44,10)\"><g class=\"mark-group role-frame root\" role=\"graphics-object\" aria-roledescription=\"group mark container\"><g transform=\"translate(0,0)\"><path class=\"background\" aria-hidden=\"true\" d=\"M0.5,0.5h600v400h-600Z\" stroke=\"#ddd\"/><g><g class=\"mark-group role-axis\" aria-hidden=\"true\"><g transform=\"translate(0.5,0.5)\"><path class=\"background\" aria-hidden=\"true\" d=\"M0,0h0v0h0Z\" pointer-events=\"none\"/><g><g class=\"mark-rule role-axis-grid\" pointer-events=\"none\"><line transform=\"translate(0,400)\" x2=\"600\" y2=\"0\" stroke=\"#ddd\" stroke-width=\"1\" opacity=\"1\"/><line transform=\"translate(0,369)\" x2=\"600\" y2=\"0\" stroke=\"#ddd\" stroke-width=\"1\" opacity=\"1\"/><line transform=\"translate(0,338)\" x2=\"600\" y2=\"0\" stroke=\"#ddd\" stroke-width=\"1\" opacity=\"1\"/><line transform=\"translate(0,308)\" x2=\"600\" y2=\"0\" stroke=\"#ddd\" stroke-width=\"1\" opacity=\"1\"/><line transform=\"translate(0,277)\" x2=\"600\" y2=\"0\" stroke=\"#ddd\" stroke-width=\"1\" opacity=\"1\"/><line transform=\"translate(0,246)\" x2=\"600\" y2=\"0\" stroke=\"#ddd\" stroke-width=\"1\" opacity=\"1\"/><line transform=\"translate(0,215)\" x2=\"600\" y2=\"0\" stroke=\"#ddd\" stroke-width=\"1\" opacity=\"1\"/><line transform=\"translate(0,185)\" x2=\"600\" y2=\"0\" stroke=\"#ddd\" stroke-width=\"1\" opacity=\"1\"/><line transform=\"translate(0,154)\" x2=\"600\" y2=\"0\" stroke=\"#ddd\" stroke-width=\"1\" opacity=\"1\"/><line transform=\"translate(0,123)\" x2=\"600\" y2=\"0\" stroke=\"#ddd\" stroke-width=\"1\" opacity=\"1\"/><line transform=\"translate(0,92)\" x2=\"600\" y2=\"0\" stroke=\"#ddd\" stroke-width=\"1\" opacity=\"1\"/><line transform=\"translate(0,62)\" x2=\"600\" y2=\"0\" stroke=\"#ddd\" stroke-width=\"1\" opacity=\"1\"/><line transform=\"translate(0,31)\" x2=\"600\" y2=\"0\" stroke=\"#ddd\" stroke-width=\"1\" opacity=\"1\"/><line transform=\"translate(0,0)\" x2=\"600\" y2=\"0\" stroke=\"#ddd\" stroke-width=\"1\" opacity=\"1\"/></g></g><path class=\"foreground\" aria-hidden=\"true\" d=\"\" pointer-events=\"none\" display=\"none\"/></g></g><g class=\"mark-group role-axis\" role=\"graphics-symbol\" aria-roledescription=\"axis\" aria-label=\"X-axis titled 'District' for a discrete scale with 12 values: Auckland City, Bay Of Plenty, Canterbury, Central, Counties/Manukau, ending with Wellington\"><g transform=\"translate(0.5,400.5)\"><path class=\"background\" aria-hidden=\"true\" d=\"M0,0h0v0h0Z\" pointer-events=\"none\"/><g><g class=\"mark-rule role-axis-tick\" pointer-events=\"none\"><line transform=\"translate(25,0)\" x2=\"0\" y2=\"5\" stroke=\"#888\" stroke-width=\"1\" opacity=\"1\"/><line transform=\"translate(75,0)\" x2=\"0\" y2=\"5\" stroke=\"#888\" stroke-width=\"1\" opacity=\"1\"/><line transform=\"translate(125,0)\" x2=\"0\" y2=\"5\" stroke=\"#888\" stroke-width=\"1\" opacity=\"1\"/><line transform=\"translate(175,0)\" x2=\"0\" y2=\"5\" stroke=\"#888\" stroke-width=\"1\" opacity=\"1\"/><line transform=\"translate(225,0)\" x2=\"0\" y2=\"5\" stroke=\"#888\" stroke-width=\"1\" opacity=\"1\"/><line transform=\"translate(275,0)\" x2=\"0\" y2=\"5\" stroke=\"#888\" stroke-width=\"1\" opacity=\"1\"/><line transform=\"translate(325,0)\" x2=\"0\" y2=\"5\" stroke=\"#888\" stroke-width=\"1\" opacity=\"1\"/><line transform=\"translate(375,0)\" x2=\"0\" y2=\"5\" stroke=\"#888\" stroke-width=\"1\" opacity=\"1\"/><line transform=\"translate(425,0)\" x2=\"0\" y2=\"5\" stroke=\"#888\" stroke-width=\"1\" opacity=\"1\"/><line transform=\"translate(475,0)\" x2=\"0\" y2=\"5\" stroke=\"#888\" stroke-width=\"1\" opacity=\"1\"/><line transform=\"translate(525,0)\" x2=\"0\" y2=\"5\" stroke=\"#888\" stroke-width=\"1\" opacity=\"1\"/><line transform=\"translate(575,0)\" x2=\"0\" y2=\"5\" stroke=\"#888\" stroke-width=\"1\" opacity=\"1\"/></g><g class=\"mark-text role-axis-label\" pointer-events=\"none\"><text text-anchor=\"end\" transform=\"translate(24.5,7) rotate(270) translate(0,3)\" font-family=\"sans-serif\" font-size=\"10px\" fill=\"#000\" opacity=\"1\">Auckland City</text><text text-anchor=\"end\" transform=\"translate(74.5,7) rotate(270) translate(0,3)\" font-family=\"sans-serif\" font-size=\"10px\" fill=\"#000\" opacity=\"1\">Bay Of Plenty</text><text text-anchor=\"end\" transform=\"translate(124.5,7) rotate(270) translate(0,3)\" font-family=\"sans-serif\" font-size=\"10px\" fill=\"#000\" opacity=\"1\">Canterbury</text><text text-anchor=\"end\" transform=\"translate(174.5,7) rotate(270) translate(0,3)\" font-family=\"sans-serif\" font-size=\"10px\" fill=\"#000\" opacity=\"1\">Central</text><text text-anchor=\"end\" transform=\"translate(224.5,7) rotate(270) translate(0,3)\" font-family=\"sans-serif\" font-size=\"10px\" fill=\"#000\" opacity=\"1\">Counties/Manukau</text><text text-anchor=\"end\" transform=\"translate(274.5,7) rotate(270) translate(0,3)\" font-family=\"sans-serif\" font-size=\"10px\" fill=\"#000\" opacity=\"1\">Eastern</text><text text-anchor=\"end\" transform=\"translate(324.5,7) rotate(270) translate(0,3)\" font-family=\"sans-serif\" font-size=\"10px\" fill=\"#000\" opacity=\"1\">Northland</text><text text-anchor=\"end\" transform=\"translate(374.5,7) rotate(270) translate(0,3)\" font-family=\"sans-serif\" font-size=\"10px\" fill=\"#000\" opacity=\"1\">Southern</text><text text-anchor=\"end\" transform=\"translate(424.5,7) rotate(270) translate(0,3)\" font-family=\"sans-serif\" font-size=\"10px\" fill=\"#000\" opacity=\"1\">Tasman</text><text text-anchor=\"end\" transform=\"translate(474.5,7) rotate(270) translate(0,3)\" font-family=\"sans-serif\" font-size=\"10px\" fill=\"#000\" opacity=\"1\">Waikato</text><text text-anchor=\"end\" transform=\"translate(524.5,7) rotate(270) translate(0,3)\" font-family=\"sans-serif\" font-size=\"10px\" fill=\"#000\" opacity=\"1\">Waitemata</text><text text-anchor=\"end\" transform=\"translate(574.5,7) rotate(270) translate(0,3)\" font-family=\"sans-serif\" font-size=\"10px\" fill=\"#000\" opacity=\"1\">Wellington</text></g><g class=\"mark-rule role-axis-domain\" pointer-events=\"none\"><line transform=\"translate(0,0)\" x2=\"600\" y2=\"0\" stroke=\"#888\" stroke-width=\"1\" opacity=\"1\"/></g><g class=\"mark-text role-axis-title\" pointer-events=\"none\"><text text-anchor=\"middle\" transform=\"translate(300,103.3837890625)\" font-family=\"sans-serif\" font-size=\"11px\" font-weight=\"bold\" fill=\"#000\" opacity=\"1\">District</text></g></g><path class=\"foreground\" aria-hidden=\"true\" d=\"\" pointer-events=\"none\" display=\"none\"/></g></g><g class=\"mark-group role-axis\" role=\"graphics-symbol\" aria-roledescription=\"axis\" aria-label=\"Y-axis titled 'Count' for a linear scale with values from 0 to 130\"><g transform=\"translate(0.5,0.5)\"><path class=\"background\" aria-hidden=\"true\" d=\"M0,0h0v0h0Z\" pointer-events=\"none\"/><g><g class=\"mark-rule role-axis-tick\" pointer-events=\"none\"><line transform=\"translate(0,400)\" x2=\"-5\" y2=\"0\" stroke=\"#888\" stroke-width=\"1\" opacity=\"1\"/><line transform=\"translate(0,369)\" x2=\"-5\" y2=\"0\" stroke=\"#888\" stroke-width=\"1\" opacity=\"1\"/><line transform=\"translate(0,338)\" x2=\"-5\" y2=\"0\" stroke=\"#888\" stroke-width=\"1\" opacity=\"1\"/><line transform=\"translate(0,308)\" x2=\"-5\" y2=\"0\" stroke=\"#888\" stroke-width=\"1\" opacity=\"1\"/><line transform=\"translate(0,277)\" x2=\"-5\" y2=\"0\" stroke=\"#888\" stroke-width=\"1\" opacity=\"1\"/><line transform=\"translate(0,246)\" x2=\"-5\" y2=\"0\" stroke=\"#888\" stroke-width=\"1\" opacity=\"1\"/><line transform=\"translate(0,215)\" x2=\"-5\" y2=\"0\" stroke=\"#888\" stroke-width=\"1\" opacity=\"1\"/><line transform=\"translate(0,185)\" x2=\"-5\" y2=\"0\" stroke=\"#888\" stroke-width=\"1\" opacity=\"1\"/><line transform=\"translate(0,154)\" x2=\"-5\" y2=\"0\" stroke=\"#888\" stroke-width=\"1\" opacity=\"1\"/><line transform=\"translate(0,123)\" x2=\"-5\" y2=\"0\" stroke=\"#888\" stroke-width=\"1\" opacity=\"1\"/><line transform=\"translate(0,92)\" x2=\"-5\" y2=\"0\" stroke=\"#888\" stroke-width=\"1\" opacity=\"1\"/><line transform=\"translate(0,62)\" x2=\"-5\" y2=\"0\" stroke=\"#888\" stroke-width=\"1\" opacity=\"1\"/><line transform=\"translate(0,31)\" x2=\"-5\" y2=\"0\" stroke=\"#888\" stroke-width=\"1\" opacity=\"1\"/><line transform=\"translate(0,0)\" x2=\"-5\" y2=\"0\" stroke=\"#888\" stroke-width=\"1\" opacity=\"1\"/></g><g class=\"mark-text role-axis-label\" pointer-events=\"none\"><text text-anchor=\"end\" transform=\"translate(-7,403)\" font-family=\"sans-serif\" font-size=\"10px\" fill=\"#000\" opacity=\"1\">0</text><text text-anchor=\"end\" transform=\"translate(-7,372.2307692307692)\" font-family=\"sans-serif\" font-size=\"10px\" fill=\"#000\" opacity=\"1\">10</text><text text-anchor=\"end\" transform=\"translate(-7,341.46153846153845)\" font-family=\"sans-serif\" font-size=\"10px\" fill=\"#000\" opacity=\"1\">20</text><text text-anchor=\"end\" transform=\"translate(-7,310.6923076923077)\" font-family=\"sans-serif\" font-size=\"10px\" fill=\"#000\" opacity=\"1\">30</text><text text-anchor=\"end\" transform=\"translate(-7,279.9230769230769)\" font-family=\"sans-serif\" font-size=\"10px\" fill=\"#000\" opacity=\"1\">40</text><text text-anchor=\"end\" transform=\"translate(-7,249.15384615384616)\" font-family=\"sans-serif\" font-size=\"10px\" fill=\"#000\" opacity=\"1\">50</text><text text-anchor=\"end\" transform=\"translate(-7,218.3846153846154)\" font-family=\"sans-serif\" font-size=\"10px\" fill=\"#000\" opacity=\"1\">60</text><text text-anchor=\"end\" transform=\"translate(-7,187.6153846153846)\" font-family=\"sans-serif\" font-size=\"10px\" fill=\"#000\" opacity=\"1\">70</text><text text-anchor=\"end\" transform=\"translate(-7,156.84615384615384)\" font-family=\"sans-serif\" font-size=\"10px\" fill=\"#000\" opacity=\"1\">80</text><text text-anchor=\"end\" transform=\"translate(-7,126.07692307692308)\" font-family=\"sans-serif\" font-size=\"10px\" fill=\"#000\" opacity=\"1\">90</text><text text-anchor=\"end\" transform=\"translate(-7,95.30769230769229)\" font-family=\"sans-serif\" font-size=\"10px\" fill=\"#000\" opacity=\"1\">100</text><text text-anchor=\"end\" transform=\"translate(-7,64.53846153846155)\" font-family=\"sans-serif\" font-size=\"10px\" fill=\"#000\" opacity=\"1\">110</text><text text-anchor=\"end\" transform=\"translate(-7,33.769230769230745)\" font-family=\"sans-serif\" font-size=\"10px\" fill=\"#000\" opacity=\"1\">120</text><text text-anchor=\"end\" transform=\"translate(-7,3)\" font-family=\"sans-serif\" font-size=\"10px\" fill=\"#000\" opacity=\"1\">130</text></g><g class=\"mark-rule role-axis-domain\" pointer-events=\"none\"><line transform=\"translate(0,400)\" x2=\"0\" y2=\"-400\" stroke=\"#888\" stroke-width=\"1\" opacity=\"1\"/></g><g class=\"mark-text role-axis-title\" pointer-events=\"none\"><text text-anchor=\"middle\" transform=\"translate(-27.6845703125,200) rotate(-90) translate(0,-2)\" font-family=\"sans-serif\" font-size=\"11px\" font-weight=\"bold\" fill=\"#000\" opacity=\"1\">Count</text></g></g><path class=\"foreground\" aria-hidden=\"true\" d=\"\" pointer-events=\"none\" display=\"none\"/></g></g><g class=\"mark-rect role-mark marks\" role=\"graphics-object\" aria-roledescription=\"rect mark container\"><path aria-label=\"District: Canterbury; Count: 2; Breach Type: Failing to Comply with a COVID-19 Direction/Prohibition/Restriction\" role=\"graphics-symbol\" aria-roledescription=\"bar\" d=\"M102.5,153.84615384615384h45v6.15384615384616h-45Z\" fill=\"#f58518\"/><path aria-label=\"District: Canterbury; Count: 78; Breach Type: Health Act Breach\" role=\"graphics-symbol\" aria-roledescription=\"bar\" d=\"M102.5,160h45v240h-45Z\" fill=\"#e45756\"/><path aria-label=\"District: Canterbury; Count: 3; Breach Type: CDEM Breach\" role=\"graphics-symbol\" aria-roledescription=\"bar\" d=\"M102.5,144.61538461538464h45v9.230769230769198h-45Z\" fill=\"#4c78a8\"/><path aria-label=\"District: Auckland City; Count: 1; Breach Type: Failing to Comply with a COVID-19 Direction/Prohibition/Restriction\" role=\"graphics-symbol\" aria-roledescription=\"bar\" d=\"M2.5,230.76923076923075h45v3.076923076923066h-45Z\" fill=\"#f58518\"/><path aria-label=\"District: Auckland City; Count: 54; Breach Type: Health Act Breach\" role=\"graphics-symbol\" aria-roledescription=\"bar\" d=\"M2.5,233.8461538461538h45v166.1538461538462h-45Z\" fill=\"#e45756\"/><path aria-label=\"District: Auckland City; Count: 10; Breach Type: CDEM Breach\" role=\"graphics-symbol\" aria-roledescription=\"bar\" d=\"M2.5,200h45v30.769230769230745h-45Z\" fill=\"#4c78a8\"/><path aria-label=\"District: Wellington; Count: 77; Breach Type: Health Act Breach\" role=\"graphics-symbol\" aria-roledescription=\"bar\" d=\"M552.5,163.07692307692307h45v236.92307692307693h-45Z\" fill=\"#e45756\"/><path aria-label=\"District: Wellington; Count: 26; Breach Type: CDEM Breach\" role=\"graphics-symbol\" aria-roledescription=\"bar\" d=\"M552.5,83.0769230769231h45v79.99999999999997h-45Z\" fill=\"#4c78a8\"/><path aria-label=\"District: Counties/Manukau; Count: 81; Breach Type: Health Act Breach\" role=\"graphics-symbol\" aria-roledescription=\"bar\" d=\"M202.5,150.76923076923077h45v249.23076923076923h-45Z\" fill=\"#e45756\"/><path aria-label=\"District: Counties/Manukau; Count: 13; Breach Type: CDEM Breach\" role=\"graphics-symbol\" aria-roledescription=\"bar\" d=\"M202.5,110.76923076923077h45v40h-45Z\" fill=\"#4c78a8\"/><path aria-label=\"District: Waitemata; Count: 62; Breach Type: Health Act Breach\" role=\"graphics-symbol\" aria-roledescription=\"bar\" d=\"M502.5,209.2307692307692h45v190.7692307692308h-45Z\" fill=\"#e45756\"/><path aria-label=\"District: Waitemata; Count: 8; Breach Type: CDEM Breach\" role=\"graphics-symbol\" aria-roledescription=\"bar\" d=\"M502.5,184.6153846153846h45v24.615384615384585h-45Z\" fill=\"#4c78a8\"/><path aria-label=\"District: Bay Of Plenty; Count: 74; Breach Type: Health Act Breach\" role=\"graphics-symbol\" aria-roledescription=\"bar\" d=\"M52.5,172.30769230769232h45v227.69230769230768h-45Z\" fill=\"#e45756\"/><path aria-label=\"District: Bay Of Plenty; Count: 13; Breach Type: CDEM Breach\" role=\"graphics-symbol\" aria-roledescription=\"bar\" d=\"M52.5,132.30769230769232h45v40h-45Z\" fill=\"#4c78a8\"/><path aria-label=\"District: Tasman; Count: 61; Breach Type: Health Act Breach\" role=\"graphics-symbol\" aria-roledescription=\"bar\" d=\"M402.5,212.30769230769232h45v187.69230769230768h-45Z\" fill=\"#e45756\"/><path aria-label=\"District: Tasman; Count: 10; Breach Type: CDEM Breach\" role=\"graphics-symbol\" aria-roledescription=\"bar\" d=\"M402.5,181.53846153846155h45v30.769230769230774h-45Z\" fill=\"#4c78a8\"/><path aria-label=\"District: Waikato; Count: 87; Breach Type: Health Act Breach\" role=\"graphics-symbol\" aria-roledescription=\"bar\" d=\"M452.5,132.30769230769232h45v267.6923076923077h-45Z\" fill=\"#e45756\"/><path aria-label=\"District: Waikato; Count: 31; Breach Type: CDEM Breach\" role=\"graphics-symbol\" aria-roledescription=\"bar\" d=\"M452.5,36.92307692307693h45v95.38461538461539h-45Z\" fill=\"#4c78a8\"/><path aria-label=\"District: Central; Count: 118; Breach Type: Health Act Breach\" role=\"graphics-symbol\" aria-roledescription=\"bar\" d=\"M152.5,36.92307692307693h45v363.0769230769231h-45Z\" fill=\"#e45756\"/><path aria-label=\"District: Central; Count: 12; Breach Type: CDEM Breach\" role=\"graphics-symbol\" aria-roledescription=\"bar\" d=\"M152.5,0h45v36.92307692307693h-45Z\" fill=\"#4c78a8\"/><path aria-label=\"District: Eastern; Count: 54; Breach Type: Health Act Breach\" role=\"graphics-symbol\" aria-roledescription=\"bar\" d=\"M252.5,233.8461538461538h45v166.1538461538462h-45Z\" fill=\"#e45756\"/><path aria-label=\"District: Eastern; Count: 10; Breach Type: CDEM Breach\" role=\"graphics-symbol\" aria-roledescription=\"bar\" d=\"M252.5,203.07692307692307h45v30.769230769230745h-45Z\" fill=\"#4c78a8\"/><path aria-label=\"District: Northland; Count: 43; Breach Type: Health Act Breach\" role=\"graphics-symbol\" aria-roledescription=\"bar\" d=\"M302.5,267.69230769230774h45v132.30769230769226h-45Z\" fill=\"#e45756\"/><path aria-label=\"District: Northland; Count: 13; Breach Type: CDEM Breach\" role=\"graphics-symbol\" aria-roledescription=\"bar\" d=\"M302.5,227.69230769230768h45v40.00000000000006h-45Z\" fill=\"#4c78a8\"/><path aria-label=\"District: Southern; Count: 115; Breach Type: Health Act Breach\" role=\"graphics-symbol\" aria-roledescription=\"bar\" d=\"M352.5,46.15384615384617h45v353.8461538461538h-45Z\" fill=\"#e45756\"/><path aria-label=\"District: Southern; Count: 9; Breach Type: CDEM Breach\" role=\"graphics-symbol\" aria-roledescription=\"bar\" d=\"M352.5,18.46153846153844h45v27.69230769230773h-45Z\" fill=\"#4c78a8\"/></g><g class=\"mark-group role-legend\" role=\"graphics-symbol\" aria-roledescription=\"legend\" aria-label=\"Symbol legend titled 'Breach Type' for fill color with 3 values: CDEM Breach, Failing to Comply with a COVID-19 Direction/Prohibition/Restriction, Health Act Breach\"><g transform=\"translate(618,0)\"><path class=\"background\" aria-hidden=\"true\" d=\"M0,0h176v53h-176Z\" pointer-events=\"none\"/><g><g class=\"mark-group role-legend-entry\"><g transform=\"translate(0,16)\"><path class=\"background\" aria-hidden=\"true\" d=\"M0,0h0v0h0Z\" pointer-events=\"none\"/><g><g class=\"mark-group role-scope\" role=\"graphics-object\" aria-roledescription=\"group mark container\"><g transform=\"translate(0,0)\"><path class=\"background\" aria-hidden=\"true\" d=\"M0,0h175.4921875v11h-175.4921875Z\" pointer-events=\"none\" opacity=\"1\"/><g><g class=\"mark-symbol role-legend-symbol\" pointer-events=\"none\"><path transform=\"translate(6,6)\" d=\"M-5,-5h10v10h-10Z\" fill=\"#4c78a8\" stroke-width=\"1.5\" opacity=\"1\"/></g><g class=\"mark-text role-legend-label\" pointer-events=\"none\"><text text-anchor=\"start\" transform=\"translate(16,9)\" font-family=\"sans-serif\" font-size=\"10px\" fill=\"#000\" opacity=\"1\">CDEM Breach</text></g></g><path class=\"foreground\" aria-hidden=\"true\" d=\"\" pointer-events=\"none\" display=\"none\"/></g><g transform=\"translate(0,13)\"><path class=\"background\" aria-hidden=\"true\" d=\"M0,0h175.4921875v11h-175.4921875Z\" pointer-events=\"none\" opacity=\"1\"/><g><g class=\"mark-symbol role-legend-symbol\" pointer-events=\"none\"><path transform=\"translate(6,6)\" d=\"M-5,-5h10v10h-10Z\" fill=\"#f58518\" stroke-width=\"1.5\" opacity=\"1\"/></g><g class=\"mark-text role-legend-label\" pointer-events=\"none\"><text text-anchor=\"start\" transform=\"translate(16,9)\" font-family=\"sans-serif\" font-size=\"10px\" fill=\"#000\" opacity=\"1\">Failing to Comply with a COVID-1…</text></g></g><path class=\"foreground\" aria-hidden=\"true\" d=\"\" pointer-events=\"none\" display=\"none\"/></g><g transform=\"translate(0,26)\"><path class=\"background\" aria-hidden=\"true\" d=\"M0,0h175.4921875v11h-175.4921875Z\" pointer-events=\"none\" opacity=\"1\"/><g><g class=\"mark-symbol role-legend-symbol\" pointer-events=\"none\"><path transform=\"translate(6,6)\" d=\"M-5,-5h10v10h-10Z\" fill=\"#e45756\" stroke-width=\"1.5\" opacity=\"1\"/></g><g class=\"mark-text role-legend-label\" pointer-events=\"none\"><text text-anchor=\"start\" transform=\"translate(16,9)\" font-family=\"sans-serif\" font-size=\"10px\" fill=\"#000\" opacity=\"1\">Health Act Breach</text></g></g><path class=\"foreground\" aria-hidden=\"true\" d=\"\" pointer-events=\"none\" display=\"none\"/></g></g></g><path class=\"foreground\" aria-hidden=\"true\" d=\"\" pointer-events=\"none\" display=\"none\"/></g></g><g class=\"mark-text role-legend-title\" pointer-events=\"none\"><text text-anchor=\"start\" transform=\"translate(0,9)\" font-family=\"sans-serif\" font-size=\"11px\" font-weight=\"bold\" fill=\"#000\" opacity=\"1\">Breach Type</text></g></g><path class=\"foreground\" aria-hidden=\"true\" d=\"\" pointer-events=\"none\" display=\"none\"/></g></g></g><path class=\"foreground\" aria-hidden=\"true\" d=\"\" display=\"none\"/></g></g></g></svg>"
      ],
      "text/plain": [
       "@vlplot(\n",
       "    width=600,\n",
       "    height=400,\n",
       "    stack=\"Count\",\n",
       "    mark=\"bar\",\n",
       "    encoding={\n",
       "        x={\n",
       "            field=\"District\"\n",
       "        },\n",
       "        y={\n",
       "            field=\"Count\"\n",
       "        },\n",
       "        color={\n",
       "            field=\"Breach Type\"\n",
       "        }\n",
       "    },\n",
       "    data={\n",
       "        values=...\n",
       "    }\n",
       ")"
      ]
     },
     "execution_count": 13,
     "metadata": {},
     "output_type": "execute_result"
    }
   ],
   "source": [
    "# Creating a stacked bar chart using Vega-Lite\n",
    "count_by_region_and_type |>\n",
    "  @vlplot(\n",
    "    :bar,  # Use the bar mark type\n",
    "    width = 600,  # Setting the width of the plot to 600 pixels\n",
    "    height = 400,  # Setting the height of the plot to 400 pixels\n",
    "    x = :District,  # Using the 'District' column for the x-axis\n",
    "    y = :Count,  # Using the 'Count' column for the y-axis\n",
    "    color = Symbol(\"Breach Type\"),  # Using the 'Breach Type' column for color encoding\n",
    "    stack = :Count  # Stacking the bars based on the 'Count' column\n",
    "    \n",
    "  )\n",
    "\n",
    "# This code creates a stacked bar chart using Vega-Lite to visualize the count of breach types in each region.\n",
    "# It specifies the width, height, data columns for the x-axis, y-axis, color, and stacking.\n"
   ]
  },
  {
   "cell_type": "code",
   "execution_count": 26,
   "id": "17d9770c-b1bb-4a66-b137-6e5023ff7354",
   "metadata": {},
   "outputs": [
    {
     "data": {
      "text/html": [
       "<div><div style = \"float: left;\"><span>3×2 DataFrame</span></div><div style = \"clear: both;\"></div></div><div class = \"data-frame\" style = \"overflow-x: scroll;\"><table class = \"data-frame\" style = \"margin-bottom: 6px;\"><thead><tr class = \"header\"><th class = \"rowNumber\" style = \"font-weight: bold; text-align: right;\">Row</th><th style = \"text-align: left;\">Breach Type</th><th style = \"text-align: left;\">Count</th></tr><tr class = \"subheader headerLastRow\"><th class = \"rowNumber\" style = \"font-weight: bold; text-align: right;\"></th><th title = \"String\" style = \"text-align: left;\">String</th><th title = \"Int64\" style = \"text-align: left;\">Int64</th></tr></thead><tbody><tr><td class = \"rowNumber\" style = \"font-weight: bold; text-align: right;\">1</td><td style = \"text-align: left;\">Failing to Comply with a COVID-19 Direction/Prohibition/Restriction</td><td style = \"text-align: right;\">3</td></tr><tr><td class = \"rowNumber\" style = \"font-weight: bold; text-align: right;\">2</td><td style = \"text-align: left;\">Health Act Breach</td><td style = \"text-align: right;\">904</td></tr><tr><td class = \"rowNumber\" style = \"font-weight: bold; text-align: right;\">3</td><td style = \"text-align: left;\">CDEM Breach</td><td style = \"text-align: right;\">158</td></tr></tbody></table></div>"
      ],
      "text/latex": [
       "\\begin{tabular}{r|cc}\n",
       "\t& Breach Type & Count\\\\\n",
       "\t\\hline\n",
       "\t& String & Int64\\\\\n",
       "\t\\hline\n",
       "\t1 & Failing to Comply with a COVID-19 Direction/Prohibition/Restriction & 3 \\\\\n",
       "\t2 & Health Act Breach & 904 \\\\\n",
       "\t3 & CDEM Breach & 158 \\\\\n",
       "\\end{tabular}\n"
      ],
      "text/plain": [
       "\u001b[1m3×2 DataFrame\u001b[0m\n",
       "\u001b[1m Row \u001b[0m│\u001b[1m Breach Type                       \u001b[0m\u001b[1m Count \u001b[0m\n",
       "     │\u001b[90m String                            \u001b[0m\u001b[90m Int64 \u001b[0m\n",
       "─────┼──────────────────────────────────────────\n",
       "   1 │ Failing to Comply with a COVID-1…      3\n",
       "   2 │ Health Act Breach                    904\n",
       "   3 │ CDEM Breach                          158"
      ]
     },
     "execution_count": 26,
     "metadata": {},
     "output_type": "execute_result"
    }
   ],
   "source": [
    "# Grouping the data by 'Breach Type' and count the occurrences of each type\n",
    "breach_type_counts = combine(groupby(df, Symbol(\"Breach Type\")), nrow => :Count)\n",
    "\n",
    "# This code groups the data by the 'Breach Type' column and calculates the count of each type, storing the result in 'breach_type_counts.'\n"
   ]
  },
  {
   "cell_type": "code",
   "execution_count": 27,
   "id": "d3f04b6d-c770-46fa-806a-be86124c40f0",
   "metadata": {},
   "outputs": [
    {
     "data": {
      "text/html": [
       "<div><div style = \"float: left;\"><span>4×2 DataFrame</span></div><div style = \"clear: both;\"></div></div><div class = \"data-frame\" style = \"overflow-x: scroll;\"><table class = \"data-frame\" style = \"margin-bottom: 6px;\"><thead><tr class = \"header\"><th class = \"rowNumber\" style = \"font-weight: bold; text-align: right;\">Row</th><th style = \"text-align: left;\">Police Action</th><th style = \"text-align: left;\">Count</th></tr><tr class = \"subheader headerLastRow\"><th class = \"rowNumber\" style = \"font-weight: bold; text-align: right;\"></th><th title = \"String15\" style = \"text-align: left;\">String15</th><th title = \"Int64\" style = \"text-align: left;\">Int64</th></tr></thead><tbody><tr><td class = \"rowNumber\" style = \"font-weight: bold; text-align: right;\">1</td><td style = \"text-align: left;\">Prosecution</td><td style = \"text-align: right;\">239</td></tr><tr><td class = \"rowNumber\" style = \"font-weight: bold; text-align: right;\">2</td><td style = \"text-align: left;\">Written Warning</td><td style = \"text-align: right;\">384</td></tr><tr><td class = \"rowNumber\" style = \"font-weight: bold; text-align: right;\">3</td><td style = \"text-align: left;\">Verbal Warning</td><td style = \"text-align: right;\">331</td></tr><tr><td class = \"rowNumber\" style = \"font-weight: bold; text-align: right;\">4</td><td style = \"text-align: left;\">Youth Referral</td><td style = \"text-align: right;\">111</td></tr></tbody></table></div>"
      ],
      "text/latex": [
       "\\begin{tabular}{r|cc}\n",
       "\t& Police Action & Count\\\\\n",
       "\t\\hline\n",
       "\t& String15 & Int64\\\\\n",
       "\t\\hline\n",
       "\t1 & Prosecution & 239 \\\\\n",
       "\t2 & Written Warning & 384 \\\\\n",
       "\t3 & Verbal Warning & 331 \\\\\n",
       "\t4 & Youth Referral & 111 \\\\\n",
       "\\end{tabular}\n"
      ],
      "text/plain": [
       "\u001b[1m4×2 DataFrame\u001b[0m\n",
       "\u001b[1m Row \u001b[0m│\u001b[1m Police Action   \u001b[0m\u001b[1m Count \u001b[0m\n",
       "     │\u001b[90m String15        \u001b[0m\u001b[90m Int64 \u001b[0m\n",
       "─────┼────────────────────────\n",
       "   1 │ Prosecution        239\n",
       "   2 │ Written Warning    384\n",
       "   3 │ Verbal Warning     331\n",
       "   4 │ Youth Referral     111"
      ]
     },
     "execution_count": 27,
     "metadata": {},
     "output_type": "execute_result"
    }
   ],
   "source": [
    "# Grouping the data by 'Police Action' and count the occurrences of each action\n",
    "Police_action_counts = combine(groupby(df, Symbol(\"Police Action\")), nrow => :Count)\n",
    "\n",
    "# This code groups the data by the 'Police Action' column and calculates the count of each action, storing the result in 'Police_action_counts.'\n"
   ]
  },
  {
   "cell_type": "code",
   "execution_count": null,
   "id": "1a357a78-a42e-416b-947c-404bfa6575f5",
   "metadata": {},
   "outputs": [],
   "source": [
    "##using Pkg\n",
    "##Pkg.update(\"VegaLite\")"
   ]
  },
  {
   "cell_type": "code",
   "execution_count": 28,
   "id": "25609766-49e9-4cc8-a0c6-58eec9946584",
   "metadata": {},
   "outputs": [
    {
     "data": {
      "text/html": [
       "<p><b>GroupedDataFrame with 10 groups based on keys: Police Action, Breach Type</b></p><div><div style = \"float: left;\"><span>First Group (1 row): Police Action = &quot;Prosecution&quot;, Breach Type = &quot;Failing to Comply with a COVID-19 Direction/Prohibition/Restriction&quot;</span></div><div style = \"clear: both;\"></div></div><div class = \"data-frame\" style = \"overflow-x: scroll;\"><table class = \"data-frame\" style = \"margin-bottom: 6px;\"><thead><tr class = \"header\"><th class = \"rowNumber\" style = \"font-weight: bold; text-align: right;\">Row</th><th style = \"text-align: left;\">Police Action</th><th style = \"text-align: left;\">District</th><th style = \"text-align: left;\">N</th><th style = \"text-align: left;\">Number of Records</th><th style = \"text-align: left;\">Period</th><th style = \"text-align: left;\">Station</th><th style = \"text-align: left;\">Breach Type</th><th style = \"text-align: left;\">Country</th><th style = \"text-align: left;\">Alert Level</th><th style = \"text-align: left;\">Area</th></tr><tr class = \"subheader headerLastRow\"><th class = \"rowNumber\" style = \"font-weight: bold; text-align: right;\"></th><th title = \"String15\" style = \"text-align: left;\">String15</th><th title = \"String31\" style = \"text-align: left;\">String31</th><th title = \"Int64\" style = \"text-align: left;\">Int64</th><th title = \"Int64\" style = \"text-align: left;\">Int64</th><th title = \"String15\" style = \"text-align: left;\">String15</th><th title = \"String31\" style = \"text-align: left;\">String31</th><th title = \"String\" style = \"text-align: left;\">String</th><th title = \"String15\" style = \"text-align: left;\">String15</th><th title = \"Int64\" style = \"text-align: left;\">Int64</th><th title = \"String31\" style = \"text-align: left;\">String31</th></tr></thead><tbody><tr><td class = \"rowNumber\" style = \"font-weight: bold; text-align: right;\">1</td><td style = \"text-align: left;\">Prosecution</td><td style = \"text-align: left;\">Canterbury</td><td style = \"text-align: right;\">1</td><td style = \"text-align: right;\">1</td><td style = \"text-align: left;\">COVID-19</td><td style = \"text-align: left;\">Hornby</td><td style = \"text-align: left;\">Failing to Comply with a COVID-19 Direction/Prohibition/Restriction</td><td style = \"text-align: left;\">New Zealand</td><td style = \"text-align: right;\">2</td><td style = \"text-align: left;\">Canterbury Metro Area</td></tr></tbody></table></div><p>&vellip;</p><div><div style = \"float: left;\"><span>Last Group (9 rows): Police Action = &quot;Youth Referral&quot;, Breach Type = &quot;CDEM Breach&quot;</span></div><div style = \"clear: both;\"></div></div><div class = \"data-frame\" style = \"overflow-x: scroll;\"><table class = \"data-frame\" style = \"margin-bottom: 6px;\"><thead><tr class = \"header\"><th class = \"rowNumber\" style = \"font-weight: bold; text-align: right;\">Row</th><th style = \"text-align: left;\">Police Action</th><th style = \"text-align: left;\">District</th><th style = \"text-align: left;\">N</th><th style = \"text-align: left;\">Number of Records</th><th style = \"text-align: left;\">Period</th><th style = \"text-align: left;\">Station</th><th style = \"text-align: left;\">Breach Type</th><th style = \"text-align: left;\">Country</th><th style = \"text-align: left;\">Alert Level</th><th style = \"text-align: left;\">Area</th></tr><tr class = \"subheader headerLastRow\"><th class = \"rowNumber\" style = \"font-weight: bold; text-align: right;\"></th><th title = \"String15\" style = \"text-align: left;\">String15</th><th title = \"String31\" style = \"text-align: left;\">String31</th><th title = \"Int64\" style = \"text-align: left;\">Int64</th><th title = \"Int64\" style = \"text-align: left;\">Int64</th><th title = \"String15\" style = \"text-align: left;\">String15</th><th title = \"String31\" style = \"text-align: left;\">String31</th><th title = \"String\" style = \"text-align: left;\">String</th><th title = \"String15\" style = \"text-align: left;\">String15</th><th title = \"Int64\" style = \"text-align: left;\">Int64</th><th title = \"String31\" style = \"text-align: left;\">String31</th></tr></thead><tbody><tr><td class = \"rowNumber\" style = \"font-weight: bold; text-align: right;\">1</td><td style = \"text-align: left;\">Youth Referral</td><td style = \"text-align: left;\">Counties/Manukau</td><td style = \"text-align: right;\">1</td><td style = \"text-align: right;\">1</td><td style = \"text-align: left;\">COVID-19</td><td style = \"text-align: left;\">Papakura</td><td style = \"text-align: left;\">CDEM Breach</td><td style = \"text-align: left;\">New Zealand</td><td style = \"text-align: right;\">3</td><td style = \"text-align: left;\">Counties Manukau South Area</td></tr><tr><td class = \"rowNumber\" style = \"font-weight: bold; text-align: right;\">2</td><td style = \"text-align: left;\">Youth Referral</td><td style = \"text-align: left;\">Eastern</td><td style = \"text-align: right;\">5</td><td style = \"text-align: right;\">1</td><td style = \"text-align: left;\">COVID-19</td><td style = \"text-align: left;\">Gisborne</td><td style = \"text-align: left;\">CDEM Breach</td><td style = \"text-align: left;\">New Zealand</td><td style = \"text-align: right;\">4</td><td style = \"text-align: left;\">Tairawhiti Area</td></tr><tr><td class = \"rowNumber\" style = \"font-weight: bold; text-align: right;\">3</td><td style = \"text-align: left;\">Youth Referral</td><td style = \"text-align: left;\">Northland</td><td style = \"text-align: right;\">4</td><td style = \"text-align: right;\">1</td><td style = \"text-align: left;\">COVID-19</td><td style = \"text-align: left;\">Whangarei</td><td style = \"text-align: left;\">CDEM Breach</td><td style = \"text-align: left;\">New Zealand</td><td style = \"text-align: right;\">4</td><td style = \"text-align: left;\">Whangarei Area</td></tr><tr><td class = \"rowNumber\" style = \"font-weight: bold; text-align: right;\">4</td><td style = \"text-align: left;\">Youth Referral</td><td style = \"text-align: left;\">Southern</td><td style = \"text-align: right;\">1</td><td style = \"text-align: right;\">1</td><td style = \"text-align: left;\">COVID-19</td><td style = \"text-align: left;\">Invercargill Central</td><td style = \"text-align: left;\">CDEM Breach</td><td style = \"text-align: left;\">New Zealand</td><td style = \"text-align: right;\">4</td><td style = \"text-align: left;\">Southland Area</td></tr><tr><td class = \"rowNumber\" style = \"font-weight: bold; text-align: right;\">5</td><td style = \"text-align: left;\">Youth Referral</td><td style = \"text-align: left;\">Tasman</td><td style = \"text-align: right;\">1</td><td style = \"text-align: right;\">1</td><td style = \"text-align: left;\">COVID-19</td><td style = \"text-align: left;\">Takaka</td><td style = \"text-align: left;\">CDEM Breach</td><td style = \"text-align: left;\">New Zealand</td><td style = \"text-align: right;\">4</td><td style = \"text-align: left;\">Nelson Bays Area</td></tr><tr><td class = \"rowNumber\" style = \"font-weight: bold; text-align: right;\">6</td><td style = \"text-align: left;\">Youth Referral</td><td style = \"text-align: left;\">Tasman</td><td style = \"text-align: right;\">3</td><td style = \"text-align: right;\">1</td><td style = \"text-align: left;\">COVID-19</td><td style = \"text-align: left;\">Greymouth</td><td style = \"text-align: left;\">CDEM Breach</td><td style = \"text-align: left;\">New Zealand</td><td style = \"text-align: right;\">4</td><td style = \"text-align: left;\">West Coast Area</td></tr><tr><td class = \"rowNumber\" style = \"font-weight: bold; text-align: right;\">7</td><td style = \"text-align: left;\">Youth Referral</td><td style = \"text-align: left;\">Waikato</td><td style = \"text-align: right;\">1</td><td style = \"text-align: right;\">1</td><td style = \"text-align: left;\">COVID-19</td><td style = \"text-align: left;\">Hamilton Central</td><td style = \"text-align: left;\">CDEM Breach</td><td style = \"text-align: left;\">New Zealand</td><td style = \"text-align: right;\">4</td><td style = \"text-align: left;\">Hamilton City Area</td></tr><tr><td class = \"rowNumber\" style = \"font-weight: bold; text-align: right;\">8</td><td style = \"text-align: left;\">Youth Referral</td><td style = \"text-align: left;\">Wellington</td><td style = \"text-align: right;\">2</td><td style = \"text-align: right;\">1</td><td style = \"text-align: left;\">COVID-19</td><td style = \"text-align: left;\">Masterton</td><td style = \"text-align: left;\">CDEM Breach</td><td style = \"text-align: left;\">New Zealand</td><td style = \"text-align: right;\">4</td><td style = \"text-align: left;\">Wairarapa Area</td></tr><tr><td class = \"rowNumber\" style = \"font-weight: bold; text-align: right;\">9</td><td style = \"text-align: left;\">Youth Referral</td><td style = \"text-align: left;\">Wellington</td><td style = \"text-align: right;\">2</td><td style = \"text-align: right;\">1</td><td style = \"text-align: left;\">COVID-19</td><td style = \"text-align: left;\">Wellington Central</td><td style = \"text-align: left;\">CDEM Breach</td><td style = \"text-align: left;\">New Zealand</td><td style = \"text-align: right;\">4</td><td style = \"text-align: left;\">Wellington Area</td></tr></tbody></table></div>"
      ],
      "text/latex": [
       "GroupedDataFrame with 10 groups based on keys: Police Action, Breach Type\n",
       "\n",
       "First Group (1 row): Police Action = \"Prosecution\", Breach Type = \"Failing to Comply with a COVID-19 Direction/Prohibition/Restriction\"\n",
       "\n",
       "\\begin{tabular}{r|cccccccc}\n",
       "\t& Police Action & District & N & Number of Records & Period & Station & Breach Type & \\\\\n",
       "\t\\hline\n",
       "\t& String15 & String31 & Int64 & Int64 & String15 & String31 & String & \\\\\n",
       "\t\\hline\n",
       "\t1 & Prosecution & Canterbury & 1 & 1 & COVID-19 & Hornby & Failing to Comply with a COVID-19 Direction/Prohibition/Restriction & $\\dots$ \\\\\n",
       "\\end{tabular}\n",
       "\n",
       "$\\dots$\n",
       "\n",
       "Last Group (9 rows): Police Action = \"Youth Referral\", Breach Type = \"CDEM Breach\"\n",
       "\n",
       "\\begin{tabular}{r|ccccccc}\n",
       "\t& Police Action & District & N & Number of Records & Period & Station & \\\\\n",
       "\t\\hline\n",
       "\t& String15 & String31 & Int64 & Int64 & String15 & String31 & \\\\\n",
       "\t\\hline\n",
       "\t1 & Youth Referral & Counties/Manukau & 1 & 1 & COVID-19 & Papakura & $\\dots$ \\\\\n",
       "\t2 & Youth Referral & Eastern & 5 & 1 & COVID-19 & Gisborne & $\\dots$ \\\\\n",
       "\t3 & Youth Referral & Northland & 4 & 1 & COVID-19 & Whangarei & $\\dots$ \\\\\n",
       "\t4 & Youth Referral & Southern & 1 & 1 & COVID-19 & Invercargill Central & $\\dots$ \\\\\n",
       "\t5 & Youth Referral & Tasman & 1 & 1 & COVID-19 & Takaka & $\\dots$ \\\\\n",
       "\t6 & Youth Referral & Tasman & 3 & 1 & COVID-19 & Greymouth & $\\dots$ \\\\\n",
       "\t7 & Youth Referral & Waikato & 1 & 1 & COVID-19 & Hamilton Central & $\\dots$ \\\\\n",
       "\t8 & Youth Referral & Wellington & 2 & 1 & COVID-19 & Masterton & $\\dots$ \\\\\n",
       "\t9 & Youth Referral & Wellington & 2 & 1 & COVID-19 & Wellington Central & $\\dots$ \\\\\n",
       "\\end{tabular}\n"
      ],
      "text/plain": [
       "GroupedDataFrame with 10 groups based on keys: Police Action, Breach Type\n",
       "First Group (1 row): Police Action = \"Prosecution\", Breach Type = \"Failing to Comply with a COVID-19 Direction/Prohibition/Restriction\"\n",
       "\u001b[1m Row \u001b[0m│\u001b[1m Police Action \u001b[0m\u001b[1m District   \u001b[0m\u001b[1m N     \u001b[0m\u001b[1m Number of Records \u001b[0m\u001b[1m Period   \u001b[0m\u001b[1m Station \u001b[0m ⋯\n",
       "     │\u001b[90m String15      \u001b[0m\u001b[90m String31   \u001b[0m\u001b[90m Int64 \u001b[0m\u001b[90m Int64             \u001b[0m\u001b[90m String15 \u001b[0m\u001b[90m String31\u001b[0m ⋯\n",
       "  ⋮  │       ⋮            ⋮         ⋮            ⋮             ⋮         ⋮     ⋱\n",
       "\u001b[36m                                                     4 columns and 1 row omitted\u001b[0m\n",
       "⋮\n",
       "Last Group (9 rows): Police Action = \"Youth Referral\", Breach Type = \"CDEM Breach\"\n",
       "\u001b[1m Row \u001b[0m│\u001b[1m Police Action  \u001b[0m\u001b[1m District         \u001b[0m\u001b[1m N     \u001b[0m\u001b[1m Number of Records \u001b[0m\u001b[1m Period   \u001b[0m\u001b[1m S\u001b[0m ⋯\n",
       "     │\u001b[90m String15       \u001b[0m\u001b[90m String31         \u001b[0m\u001b[90m Int64 \u001b[0m\u001b[90m Int64             \u001b[0m\u001b[90m String15 \u001b[0m\u001b[90m S\u001b[0m ⋯\n",
       "─────┼──────────────────────────────────────────────────────────────────────────\n",
       "   1 │ Youth Referral  Counties/Manukau      1                  1  COVID-19  P ⋯\n",
       "   2 │ Youth Referral  Eastern               5                  1  COVID-19  G\n",
       "   3 │ Youth Referral  Northland             4                  1  COVID-19  W\n",
       "   4 │ Youth Referral  Southern              1                  1  COVID-19  I\n",
       "  ⋮  │       ⋮                ⋮            ⋮            ⋮             ⋮        ⋱\n",
       "   7 │ Youth Referral  Waikato               1                  1  COVID-19  H ⋯\n",
       "   8 │ Youth Referral  Wellington            2                  1  COVID-19  M\n",
       "   9 │ Youth Referral  Wellington            2                  1  COVID-19  W\n",
       "\u001b[36m                                                    5 columns and 2 rows omitted\u001b[0m"
      ]
     },
     "execution_count": 28,
     "metadata": {},
     "output_type": "execute_result"
    }
   ],
   "source": [
    "# Grouping the data by 'Police Action' and 'Breach Type'\n",
    "grouped_data1 = groupby(df, Cols([:(\"Police Action\"), (\"Breach Type\")]))\n",
    "\n",
    "# This code groups the data by the 'Police Action' and 'Breach Type' columns, creating a grouped DataFrame named 'grouped_data1.'\n"
   ]
  },
  {
   "cell_type": "code",
   "execution_count": 29,
   "id": "4a325c58-08d4-4f2a-af07-16126e8d1586",
   "metadata": {
    "scrolled": true
   },
   "outputs": [
    {
     "data": {
      "text/html": [
       "<div><div style = \"float: left;\"><span>10×3 DataFrame</span></div><div style = \"clear: both;\"></div></div><div class = \"data-frame\" style = \"overflow-x: scroll;\"><table class = \"data-frame\" style = \"margin-bottom: 6px;\"><thead><tr class = \"header\"><th class = \"rowNumber\" style = \"font-weight: bold; text-align: right;\">Row</th><th style = \"text-align: left;\">Police Action</th><th style = \"text-align: left;\">Breach Type</th><th style = \"text-align: left;\">Count</th></tr><tr class = \"subheader headerLastRow\"><th class = \"rowNumber\" style = \"font-weight: bold; text-align: right;\"></th><th title = \"String15\" style = \"text-align: left;\">String15</th><th title = \"String\" style = \"text-align: left;\">String</th><th title = \"Int64\" style = \"text-align: left;\">Int64</th></tr></thead><tbody><tr><td class = \"rowNumber\" style = \"font-weight: bold; text-align: right;\">1</td><td style = \"text-align: left;\">Prosecution</td><td style = \"text-align: left;\">Failing to Comply with a COVID-19 Direction/Prohibition/Restriction</td><td style = \"text-align: right;\">1</td></tr><tr><td class = \"rowNumber\" style = \"font-weight: bold; text-align: right;\">2</td><td style = \"text-align: left;\">Prosecution</td><td style = \"text-align: left;\">Health Act Breach</td><td style = \"text-align: right;\">218</td></tr><tr><td class = \"rowNumber\" style = \"font-weight: bold; text-align: right;\">3</td><td style = \"text-align: left;\">Prosecution</td><td style = \"text-align: left;\">CDEM Breach</td><td style = \"text-align: right;\">20</td></tr><tr><td class = \"rowNumber\" style = \"font-weight: bold; text-align: right;\">4</td><td style = \"text-align: left;\">Written Warning</td><td style = \"text-align: left;\">Failing to Comply with a COVID-19 Direction/Prohibition/Restriction</td><td style = \"text-align: right;\">2</td></tr><tr><td class = \"rowNumber\" style = \"font-weight: bold; text-align: right;\">5</td><td style = \"text-align: left;\">Written Warning</td><td style = \"text-align: left;\">Health Act Breach</td><td style = \"text-align: right;\">342</td></tr><tr><td class = \"rowNumber\" style = \"font-weight: bold; text-align: right;\">6</td><td style = \"text-align: left;\">Written Warning</td><td style = \"text-align: left;\">CDEM Breach</td><td style = \"text-align: right;\">40</td></tr><tr><td class = \"rowNumber\" style = \"font-weight: bold; text-align: right;\">7</td><td style = \"text-align: left;\">Verbal Warning</td><td style = \"text-align: left;\">Health Act Breach</td><td style = \"text-align: right;\">242</td></tr><tr><td class = \"rowNumber\" style = \"font-weight: bold; text-align: right;\">8</td><td style = \"text-align: left;\">Verbal Warning</td><td style = \"text-align: left;\">CDEM Breach</td><td style = \"text-align: right;\">89</td></tr><tr><td class = \"rowNumber\" style = \"font-weight: bold; text-align: right;\">9</td><td style = \"text-align: left;\">Youth Referral</td><td style = \"text-align: left;\">Health Act Breach</td><td style = \"text-align: right;\">102</td></tr><tr><td class = \"rowNumber\" style = \"font-weight: bold; text-align: right;\">10</td><td style = \"text-align: left;\">Youth Referral</td><td style = \"text-align: left;\">CDEM Breach</td><td style = \"text-align: right;\">9</td></tr></tbody></table></div>"
      ],
      "text/latex": [
       "\\begin{tabular}{r|ccc}\n",
       "\t& Police Action & Breach Type & \\\\\n",
       "\t\\hline\n",
       "\t& String15 & String & \\\\\n",
       "\t\\hline\n",
       "\t1 & Prosecution & Failing to Comply with a COVID-19 Direction/Prohibition/Restriction & $\\dots$ \\\\\n",
       "\t2 & Prosecution & Health Act Breach & $\\dots$ \\\\\n",
       "\t3 & Prosecution & CDEM Breach & $\\dots$ \\\\\n",
       "\t4 & Written Warning & Failing to Comply with a COVID-19 Direction/Prohibition/Restriction & $\\dots$ \\\\\n",
       "\t5 & Written Warning & Health Act Breach & $\\dots$ \\\\\n",
       "\t6 & Written Warning & CDEM Breach & $\\dots$ \\\\\n",
       "\t7 & Verbal Warning & Health Act Breach & $\\dots$ \\\\\n",
       "\t8 & Verbal Warning & CDEM Breach & $\\dots$ \\\\\n",
       "\t9 & Youth Referral & Health Act Breach & $\\dots$ \\\\\n",
       "\t10 & Youth Referral & CDEM Breach & $\\dots$ \\\\\n",
       "\\end{tabular}\n"
      ],
      "text/plain": [
       "\u001b[1m10×3 DataFrame\u001b[0m\n",
       "\u001b[1m Row \u001b[0m│\u001b[1m Police Action   \u001b[0m\u001b[1m Breach Type                       \u001b[0m\u001b[1m Count \u001b[0m\n",
       "     │\u001b[90m String15        \u001b[0m\u001b[90m String                            \u001b[0m\u001b[90m Int64 \u001b[0m\n",
       "─────┼───────────────────────────────────────────────────────────\n",
       "   1 │ Prosecution      Failing to Comply with a COVID-1…      1\n",
       "   2 │ Prosecution      Health Act Breach                    218\n",
       "   3 │ Prosecution      CDEM Breach                           20\n",
       "   4 │ Written Warning  Failing to Comply with a COVID-1…      2\n",
       "   5 │ Written Warning  Health Act Breach                    342\n",
       "   6 │ Written Warning  CDEM Breach                           40\n",
       "   7 │ Verbal Warning   Health Act Breach                    242\n",
       "   8 │ Verbal Warning   CDEM Breach                           89\n",
       "   9 │ Youth Referral   Health Act Breach                    102\n",
       "  10 │ Youth Referral   CDEM Breach                            9"
      ]
     },
     "execution_count": 29,
     "metadata": {},
     "output_type": "execute_result"
    }
   ],
   "source": [
    "# Counting the number of occurrences for each combination of 'Police Action' and 'Breach Type'\n",
    "count_by_breach_type_and_police_action = combine(grouped_data1, nrow => :Count)\n",
    "\n",
    "# This code counts the number of occurrences for each unique combination of 'Police Action' and 'Breach Type' within the grouped data.\n",
    "# The result is stored in a new DataFrame 'count_by_breach_type_and_police_action' with a 'Count' column.\n"
   ]
  },
  {
   "cell_type": "code",
   "execution_count": 15,
   "id": "47f624e7-9432-434d-8738-cba5030f9937",
   "metadata": {},
   "outputs": [
    {
     "data": {
      "text/html": [
       "<div><div style = \"float: left;\"><span>10×3 DataFrame</span></div><div style = \"clear: both;\"></div></div><div class = \"data-frame\" style = \"overflow-x: scroll;\"><table class = \"data-frame\" style = \"margin-bottom: 6px;\"><thead><tr class = \"header\"><th class = \"rowNumber\" style = \"font-weight: bold; text-align: right;\">Row</th><th style = \"text-align: left;\">Police_Action</th><th style = \"text-align: left;\">Breach_Type</th><th style = \"text-align: left;\">Count</th></tr><tr class = \"subheader headerLastRow\"><th class = \"rowNumber\" style = \"font-weight: bold; text-align: right;\"></th><th title = \"String15\" style = \"text-align: left;\">String15</th><th title = \"String\" style = \"text-align: left;\">String</th><th title = \"Int64\" style = \"text-align: left;\">Int64</th></tr></thead><tbody><tr><td class = \"rowNumber\" style = \"font-weight: bold; text-align: right;\">1</td><td style = \"text-align: left;\">Prosecution</td><td style = \"text-align: left;\">Failing to Comply with a COVID-19 Direction/Prohibition/Restriction</td><td style = \"text-align: right;\">1</td></tr><tr><td class = \"rowNumber\" style = \"font-weight: bold; text-align: right;\">2</td><td style = \"text-align: left;\">Prosecution</td><td style = \"text-align: left;\">Health Act Breach</td><td style = \"text-align: right;\">218</td></tr><tr><td class = \"rowNumber\" style = \"font-weight: bold; text-align: right;\">3</td><td style = \"text-align: left;\">Prosecution</td><td style = \"text-align: left;\">CDEM Breach</td><td style = \"text-align: right;\">20</td></tr><tr><td class = \"rowNumber\" style = \"font-weight: bold; text-align: right;\">4</td><td style = \"text-align: left;\">Written Warning</td><td style = \"text-align: left;\">Failing to Comply with a COVID-19 Direction/Prohibition/Restriction</td><td style = \"text-align: right;\">2</td></tr><tr><td class = \"rowNumber\" style = \"font-weight: bold; text-align: right;\">5</td><td style = \"text-align: left;\">Written Warning</td><td style = \"text-align: left;\">Health Act Breach</td><td style = \"text-align: right;\">342</td></tr><tr><td class = \"rowNumber\" style = \"font-weight: bold; text-align: right;\">6</td><td style = \"text-align: left;\">Written Warning</td><td style = \"text-align: left;\">CDEM Breach</td><td style = \"text-align: right;\">40</td></tr><tr><td class = \"rowNumber\" style = \"font-weight: bold; text-align: right;\">7</td><td style = \"text-align: left;\">Verbal Warning</td><td style = \"text-align: left;\">Health Act Breach</td><td style = \"text-align: right;\">242</td></tr><tr><td class = \"rowNumber\" style = \"font-weight: bold; text-align: right;\">8</td><td style = \"text-align: left;\">Verbal Warning</td><td style = \"text-align: left;\">CDEM Breach</td><td style = \"text-align: right;\">89</td></tr><tr><td class = \"rowNumber\" style = \"font-weight: bold; text-align: right;\">9</td><td style = \"text-align: left;\">Youth Referral</td><td style = \"text-align: left;\">Health Act Breach</td><td style = \"text-align: right;\">102</td></tr><tr><td class = \"rowNumber\" style = \"font-weight: bold; text-align: right;\">10</td><td style = \"text-align: left;\">Youth Referral</td><td style = \"text-align: left;\">CDEM Breach</td><td style = \"text-align: right;\">9</td></tr></tbody></table></div>"
      ],
      "text/latex": [
       "\\begin{tabular}{r|ccc}\n",
       "\t& Police\\_Action & Breach\\_Type & \\\\\n",
       "\t\\hline\n",
       "\t& String15 & String & \\\\\n",
       "\t\\hline\n",
       "\t1 & Prosecution & Failing to Comply with a COVID-19 Direction/Prohibition/Restriction & $\\dots$ \\\\\n",
       "\t2 & Prosecution & Health Act Breach & $\\dots$ \\\\\n",
       "\t3 & Prosecution & CDEM Breach & $\\dots$ \\\\\n",
       "\t4 & Written Warning & Failing to Comply with a COVID-19 Direction/Prohibition/Restriction & $\\dots$ \\\\\n",
       "\t5 & Written Warning & Health Act Breach & $\\dots$ \\\\\n",
       "\t6 & Written Warning & CDEM Breach & $\\dots$ \\\\\n",
       "\t7 & Verbal Warning & Health Act Breach & $\\dots$ \\\\\n",
       "\t8 & Verbal Warning & CDEM Breach & $\\dots$ \\\\\n",
       "\t9 & Youth Referral & Health Act Breach & $\\dots$ \\\\\n",
       "\t10 & Youth Referral & CDEM Breach & $\\dots$ \\\\\n",
       "\\end{tabular}\n"
      ],
      "text/plain": [
       "\u001b[1m10×3 DataFrame\u001b[0m\n",
       "\u001b[1m Row \u001b[0m│\u001b[1m Police_Action   \u001b[0m\u001b[1m Breach_Type                       \u001b[0m\u001b[1m Count \u001b[0m\n",
       "     │\u001b[90m String15        \u001b[0m\u001b[90m String                            \u001b[0m\u001b[90m Int64 \u001b[0m\n",
       "─────┼───────────────────────────────────────────────────────────\n",
       "   1 │ Prosecution      Failing to Comply with a COVID-1…      1\n",
       "   2 │ Prosecution      Health Act Breach                    218\n",
       "   3 │ Prosecution      CDEM Breach                           20\n",
       "   4 │ Written Warning  Failing to Comply with a COVID-1…      2\n",
       "   5 │ Written Warning  Health Act Breach                    342\n",
       "   6 │ Written Warning  CDEM Breach                           40\n",
       "   7 │ Verbal Warning   Health Act Breach                    242\n",
       "   8 │ Verbal Warning   CDEM Breach                           89\n",
       "   9 │ Youth Referral   Health Act Breach                    102\n",
       "  10 │ Youth Referral   CDEM Breach                            9"
      ]
     },
     "execution_count": 15,
     "metadata": {},
     "output_type": "execute_result"
    }
   ],
   "source": [
    "# Renaming the columns to avoid Argument string error\n",
    "count_by_breach_type_and_police_action_renamed=rename!(count_by_breach_type_and_police_action, [Symbol(\"Police Action\") => :Police_Action, Symbol(\"Breach Type\") => :Breach_Type])\n",
    "count_by_breach_type_and_police_action_renamed\n"
   ]
  },
  {
   "cell_type": "code",
   "execution_count": 38,
   "id": "70427b31-955d-4183-9bb4-f2bc269c9f35",
   "metadata": {},
   "outputs": [
    {
     "data": {
      "application/vnd.vega.v5+json": {
       "$schema": "https://vega.github.io/schema/vega/v5.json",
       "axes": [
        {
         "aria": false,
         "domain": false,
         "grid": true,
         "gridScale": "y",
         "labels": false,
         "maxExtent": 0,
         "minExtent": 0,
         "orient": "bottom",
         "scale": "x",
         "tickCount": {
          "signal": "ceil(width/40)"
         },
         "ticks": false,
         "zindex": 0
        },
        {
         "grid": false,
         "labelFlush": true,
         "labelOverlap": true,
         "orient": "bottom",
         "scale": "x",
         "tickCount": {
          "signal": "ceil(width/40)"
         },
         "title": "Count",
         "zindex": 0
        },
        {
         "grid": false,
         "orient": "left",
         "scale": "y",
         "title": "Police_Action",
         "zindex": 0
        }
       ],
       "background": "white",
       "data": [
        {
         "name": "source_0",
         "values": [
          {
           "Breach_Type": "Failing to Comply with a COVID-19 Direction/Prohibition/Restriction",
           "Count": 1,
           "Police_Action": "Prosecution"
          },
          {
           "Breach_Type": "Health Act Breach",
           "Count": 218,
           "Police_Action": "Prosecution"
          },
          {
           "Breach_Type": "CDEM Breach",
           "Count": 20,
           "Police_Action": "Prosecution"
          },
          {
           "Breach_Type": "Failing to Comply with a COVID-19 Direction/Prohibition/Restriction",
           "Count": 2,
           "Police_Action": "Written Warning"
          },
          {
           "Breach_Type": "Health Act Breach",
           "Count": 342,
           "Police_Action": "Written Warning"
          },
          {
           "Breach_Type": "CDEM Breach",
           "Count": 40,
           "Police_Action": "Written Warning"
          },
          {
           "Breach_Type": "Health Act Breach",
           "Count": 242,
           "Police_Action": "Verbal Warning"
          },
          {
           "Breach_Type": "CDEM Breach",
           "Count": 89,
           "Police_Action": "Verbal Warning"
          },
          {
           "Breach_Type": "Health Act Breach",
           "Count": 102,
           "Police_Action": "Youth Referral"
          },
          {
           "Breach_Type": "CDEM Breach",
           "Count": 9,
           "Police_Action": "Youth Referral"
          }
         ]
        },
        {
         "name": "data_0",
         "source": "source_0",
         "transform": [
          {
           "as": [
            "Count_start",
            "Count_end"
           ],
           "field": "Count",
           "groupby": [
            "Police_Action"
           ],
           "offset": "zero",
           "sort": {
            "field": [
             "Breach_Type"
            ],
            "order": [
             "ascending"
            ]
           },
           "type": "stack"
          },
          {
           "expr": "isValid(datum[\"Count\"]) && isFinite(+datum[\"Count\"])",
           "type": "filter"
          }
         ]
        }
       ],
       "height": 400,
       "legends": [
        {
         "fill": "color",
         "symbolType": "square",
         "title": "Breach_Type"
        }
       ],
       "marks": [
        {
         "encode": {
          "update": {
           "ariaRoleDescription": {
            "value": "bar"
           },
           "description": {
            "signal": "\"Count: \" + (format(datum[\"Count\"], \"\")) + \"; Police_Action: \" + (isValid(datum[\"Police_Action\"]) ? datum[\"Police_Action\"] : \"\"+datum[\"Police_Action\"]) + \"; Breach_Type: \" + (isValid(datum[\"Breach_Type\"]) ? datum[\"Breach_Type\"] : \"\"+datum[\"Breach_Type\"])"
           },
           "fill": {
            "field": "Breach_Type",
            "scale": "color"
           },
           "height": {
            "signal": "max(0.25, bandwidth('y'))"
           },
           "x": {
            "field": "Count_end",
            "scale": "x"
           },
           "x2": {
            "field": "Count_start",
            "scale": "x"
           },
           "y": {
            "field": "Police_Action",
            "scale": "y"
           }
          }
         },
         "from": {
          "data": "data_0"
         },
         "name": "marks",
         "style": [
          "bar"
         ],
         "type": "rect"
        }
       ],
       "padding": 5,
       "scales": [
        {
         "domain": {
          "data": "data_0",
          "fields": [
           "Count_start",
           "Count_end"
          ]
         },
         "name": "x",
         "nice": true,
         "range": [
          0,
          {
           "signal": "width"
          }
         ],
         "type": "linear",
         "zero": true
        },
        {
         "domain": {
          "data": "data_0",
          "field": "Police_Action",
          "sort": true
         },
         "name": "y",
         "paddingInner": 0.1,
         "paddingOuter": 0.05,
         "range": [
          0,
          {
           "signal": "height"
          }
         ],
         "type": "band"
        },
        {
         "domain": {
          "data": "data_0",
          "field": "Breach_Type",
          "sort": true
         },
         "name": "color",
         "range": "category",
         "type": "ordinal"
        }
       ],
       "style": "cell",
       "width": 600
      },
      "image/png": "[encoded data removed]",
      "image/svg+xml": [
       "<svg xmlns=\"http://www.w3.org/2000/svg\" xmlns:xlink=\"http://www.w3.org/1999/xlink\" version=\"1.1\" class=\"marks\" width=\"898\" height=\"442\" viewBox=\"0 0 898 442\"><rect width=\"898\" height=\"442\" fill=\"white\"/><g fill=\"none\" stroke-miterlimit=\"10\" transform=\"translate(99,5)\"><g class=\"mark-group role-frame root\" role=\"graphics-object\" aria-roledescription=\"group mark container\"><g transform=\"translate(0,0)\"><path class=\"background\" aria-hidden=\"true\" d=\"M0.5,0.5h600v400h-600Z\" stroke=\"#ddd\"/><g><g class=\"mark-group role-axis\" aria-hidden=\"true\"><g transform=\"translate(0.5,400.5)\"><path class=\"background\" aria-hidden=\"true\" d=\"M0,0h0v0h0Z\" pointer-events=\"none\"/><g><g class=\"mark-rule role-axis-grid\" pointer-events=\"none\"><line transform=\"translate(0,0)\" x2=\"0\" y2=\"-400\" stroke=\"#ddd\" stroke-width=\"1\" opacity=\"1\"/><line transform=\"translate(30,0)\" x2=\"0\" y2=\"-400\" stroke=\"#ddd\" stroke-width=\"1\" opacity=\"1\"/><line transform=\"translate(60,0)\" x2=\"0\" y2=\"-400\" stroke=\"#ddd\" stroke-width=\"1\" opacity=\"1\"/><line transform=\"translate(90,0)\" x2=\"0\" y2=\"-400\" stroke=\"#ddd\" stroke-width=\"1\" opacity=\"1\"/><line transform=\"translate(120,0)\" x2=\"0\" y2=\"-400\" stroke=\"#ddd\" stroke-width=\"1\" opacity=\"1\"/><line transform=\"translate(150,0)\" x2=\"0\" y2=\"-400\" stroke=\"#ddd\" stroke-width=\"1\" opacity=\"1\"/><line transform=\"translate(180,0)\" x2=\"0\" y2=\"-400\" stroke=\"#ddd\" stroke-width=\"1\" opacity=\"1\"/><line transform=\"translate(210,0)\" x2=\"0\" y2=\"-400\" stroke=\"#ddd\" stroke-width=\"1\" opacity=\"1\"/><line transform=\"translate(240,0)\" x2=\"0\" y2=\"-400\" stroke=\"#ddd\" stroke-width=\"1\" opacity=\"1\"/><line transform=\"translate(270,0)\" x2=\"0\" y2=\"-400\" stroke=\"#ddd\" stroke-width=\"1\" opacity=\"1\"/><line transform=\"translate(300,0)\" x2=\"0\" y2=\"-400\" stroke=\"#ddd\" stroke-width=\"1\" opacity=\"1\"/><line transform=\"translate(330,0)\" x2=\"0\" y2=\"-400\" stroke=\"#ddd\" stroke-width=\"1\" opacity=\"1\"/><line transform=\"translate(360,0)\" x2=\"0\" y2=\"-400\" stroke=\"#ddd\" stroke-width=\"1\" opacity=\"1\"/><line transform=\"translate(390,0)\" x2=\"0\" y2=\"-400\" stroke=\"#ddd\" stroke-width=\"1\" opacity=\"1\"/><line transform=\"translate(420,0)\" x2=\"0\" y2=\"-400\" stroke=\"#ddd\" stroke-width=\"1\" opacity=\"1\"/><line transform=\"translate(450,0)\" x2=\"0\" y2=\"-400\" stroke=\"#ddd\" stroke-width=\"1\" opacity=\"1\"/><line transform=\"translate(480,0)\" x2=\"0\" y2=\"-400\" stroke=\"#ddd\" stroke-width=\"1\" opacity=\"1\"/><line transform=\"translate(510,0)\" x2=\"0\" y2=\"-400\" stroke=\"#ddd\" stroke-width=\"1\" opacity=\"1\"/><line transform=\"translate(540,0)\" x2=\"0\" y2=\"-400\" stroke=\"#ddd\" stroke-width=\"1\" opacity=\"1\"/><line transform=\"translate(570,0)\" x2=\"0\" y2=\"-400\" stroke=\"#ddd\" stroke-width=\"1\" opacity=\"1\"/><line transform=\"translate(600,0)\" x2=\"0\" y2=\"-400\" stroke=\"#ddd\" stroke-width=\"1\" opacity=\"1\"/></g></g><path class=\"foreground\" aria-hidden=\"true\" d=\"\" pointer-events=\"none\" display=\"none\"/></g></g><g class=\"mark-group role-axis\" role=\"graphics-symbol\" aria-roledescription=\"axis\" aria-label=\"X-axis titled 'Count' for a linear scale with values from 0 to 400\"><g transform=\"translate(0.5,400.5)\"><path class=\"background\" aria-hidden=\"true\" d=\"M0,0h0v0h0Z\" pointer-events=\"none\"/><g><g class=\"mark-rule role-axis-tick\" pointer-events=\"none\"><line transform=\"translate(0,0)\" x2=\"0\" y2=\"5\" stroke=\"#888\" stroke-width=\"1\" opacity=\"1\"/><line transform=\"translate(30,0)\" x2=\"0\" y2=\"5\" stroke=\"#888\" stroke-width=\"1\" opacity=\"1\"/><line transform=\"translate(60,0)\" x2=\"0\" y2=\"5\" stroke=\"#888\" stroke-width=\"1\" opacity=\"1\"/><line transform=\"translate(90,0)\" x2=\"0\" y2=\"5\" stroke=\"#888\" stroke-width=\"1\" opacity=\"1\"/><line transform=\"translate(120,0)\" x2=\"0\" y2=\"5\" stroke=\"#888\" stroke-width=\"1\" opacity=\"1\"/><line transform=\"translate(150,0)\" x2=\"0\" y2=\"5\" stroke=\"#888\" stroke-width=\"1\" opacity=\"1\"/><line transform=\"translate(180,0)\" x2=\"0\" y2=\"5\" stroke=\"#888\" stroke-width=\"1\" opacity=\"1\"/><line transform=\"translate(210,0)\" x2=\"0\" y2=\"5\" stroke=\"#888\" stroke-width=\"1\" opacity=\"1\"/><line transform=\"translate(240,0)\" x2=\"0\" y2=\"5\" stroke=\"#888\" stroke-width=\"1\" opacity=\"1\"/><line transform=\"translate(270,0)\" x2=\"0\" y2=\"5\" stroke=\"#888\" stroke-width=\"1\" opacity=\"1\"/><line transform=\"translate(300,0)\" x2=\"0\" y2=\"5\" stroke=\"#888\" stroke-width=\"1\" opacity=\"1\"/><line transform=\"translate(330,0)\" x2=\"0\" y2=\"5\" stroke=\"#888\" stroke-width=\"1\" opacity=\"1\"/><line transform=\"translate(360,0)\" x2=\"0\" y2=\"5\" stroke=\"#888\" stroke-width=\"1\" opacity=\"1\"/><line transform=\"translate(390,0)\" x2=\"0\" y2=\"5\" stroke=\"#888\" stroke-width=\"1\" opacity=\"1\"/><line transform=\"translate(420,0)\" x2=\"0\" y2=\"5\" stroke=\"#888\" stroke-width=\"1\" opacity=\"1\"/><line transform=\"translate(450,0)\" x2=\"0\" y2=\"5\" stroke=\"#888\" stroke-width=\"1\" opacity=\"1\"/><line transform=\"translate(480,0)\" x2=\"0\" y2=\"5\" stroke=\"#888\" stroke-width=\"1\" opacity=\"1\"/><line transform=\"translate(510,0)\" x2=\"0\" y2=\"5\" stroke=\"#888\" stroke-width=\"1\" opacity=\"1\"/><line transform=\"translate(540,0)\" x2=\"0\" y2=\"5\" stroke=\"#888\" stroke-width=\"1\" opacity=\"1\"/><line transform=\"translate(570,0)\" x2=\"0\" y2=\"5\" stroke=\"#888\" stroke-width=\"1\" opacity=\"1\"/><line transform=\"translate(600,0)\" x2=\"0\" y2=\"5\" stroke=\"#888\" stroke-width=\"1\" opacity=\"1\"/></g><g class=\"mark-text role-axis-label\" pointer-events=\"none\"><text text-anchor=\"start\" transform=\"translate(0,15)\" font-family=\"sans-serif\" font-size=\"10px\" fill=\"#000\" opacity=\"1\">0</text><text text-anchor=\"middle\" transform=\"translate(30,15)\" font-family=\"sans-serif\" font-size=\"10px\" fill=\"#000\" opacity=\"1\">20</text><text text-anchor=\"middle\" transform=\"translate(60,15)\" font-family=\"sans-serif\" font-size=\"10px\" fill=\"#000\" opacity=\"1\">40</text><text text-anchor=\"middle\" transform=\"translate(90,15)\" font-family=\"sans-serif\" font-size=\"10px\" fill=\"#000\" opacity=\"1\">60</text><text text-anchor=\"middle\" transform=\"translate(120,15)\" font-family=\"sans-serif\" font-size=\"10px\" fill=\"#000\" opacity=\"1\">80</text><text text-anchor=\"middle\" transform=\"translate(150,15)\" font-family=\"sans-serif\" font-size=\"10px\" fill=\"#000\" opacity=\"1\">100</text><text text-anchor=\"middle\" transform=\"translate(180,15)\" font-family=\"sans-serif\" font-size=\"10px\" fill=\"#000\" opacity=\"1\">120</text><text text-anchor=\"middle\" transform=\"translate(210,15)\" font-family=\"sans-serif\" font-size=\"10px\" fill=\"#000\" opacity=\"1\">140</text><text text-anchor=\"middle\" transform=\"translate(240,15)\" font-family=\"sans-serif\" font-size=\"10px\" fill=\"#000\" opacity=\"1\">160</text><text text-anchor=\"middle\" transform=\"translate(270,15)\" font-family=\"sans-serif\" font-size=\"10px\" fill=\"#000\" opacity=\"1\">180</text><text text-anchor=\"middle\" transform=\"translate(300,15)\" font-family=\"sans-serif\" font-size=\"10px\" fill=\"#000\" opacity=\"1\">200</text><text text-anchor=\"middle\" transform=\"translate(330,15)\" font-family=\"sans-serif\" font-size=\"10px\" fill=\"#000\" opacity=\"1\">220</text><text text-anchor=\"middle\" transform=\"translate(360,15)\" font-family=\"sans-serif\" font-size=\"10px\" fill=\"#000\" opacity=\"1\">240</text><text text-anchor=\"middle\" transform=\"translate(390,15)\" font-family=\"sans-serif\" font-size=\"10px\" fill=\"#000\" opacity=\"1\">260</text><text text-anchor=\"middle\" transform=\"translate(420,15)\" font-family=\"sans-serif\" font-size=\"10px\" fill=\"#000\" opacity=\"1\">280</text><text text-anchor=\"middle\" transform=\"translate(450,15)\" font-family=\"sans-serif\" font-size=\"10px\" fill=\"#000\" opacity=\"1\">300</text><text text-anchor=\"middle\" transform=\"translate(480,15)\" font-family=\"sans-serif\" font-size=\"10px\" fill=\"#000\" opacity=\"1\">320</text><text text-anchor=\"middle\" transform=\"translate(510,15)\" font-family=\"sans-serif\" font-size=\"10px\" fill=\"#000\" opacity=\"1\">340</text><text text-anchor=\"middle\" transform=\"translate(540,15)\" font-family=\"sans-serif\" font-size=\"10px\" fill=\"#000\" opacity=\"1\">360</text><text text-anchor=\"middle\" transform=\"translate(570,15)\" font-family=\"sans-serif\" font-size=\"10px\" fill=\"#000\" opacity=\"1\">380</text><text text-anchor=\"end\" transform=\"translate(600,15)\" font-family=\"sans-serif\" font-size=\"10px\" fill=\"#000\" opacity=\"1\">400</text></g><g class=\"mark-rule role-axis-domain\" pointer-events=\"none\"><line transform=\"translate(0,0)\" x2=\"600\" y2=\"0\" stroke=\"#888\" stroke-width=\"1\" opacity=\"1\"/></g><g class=\"mark-text role-axis-title\" pointer-events=\"none\"><text text-anchor=\"middle\" transform=\"translate(300,30)\" font-family=\"sans-serif\" font-size=\"11px\" font-weight=\"bold\" fill=\"#000\" opacity=\"1\">Count</text></g></g><path class=\"foreground\" aria-hidden=\"true\" d=\"\" pointer-events=\"none\" display=\"none\"/></g></g><g class=\"mark-group role-axis\" role=\"graphics-symbol\" aria-roledescription=\"axis\" aria-label=\"Y-axis titled 'Police_Action' for a discrete scale with 4 values: Prosecution, Verbal Warning, Written Warning, Youth Referral\"><g transform=\"translate(0.5,0.5)\"><path class=\"background\" aria-hidden=\"true\" d=\"M0,0h0v0h0Z\" pointer-events=\"none\"/><g><g class=\"mark-rule role-axis-tick\" pointer-events=\"none\"><line transform=\"translate(0,50)\" x2=\"-5\" y2=\"0\" stroke=\"#888\" stroke-width=\"1\" opacity=\"1\"/><line transform=\"translate(0,150)\" x2=\"-5\" y2=\"0\" stroke=\"#888\" stroke-width=\"1\" opacity=\"1\"/><line transform=\"translate(0,250)\" x2=\"-5\" y2=\"0\" stroke=\"#888\" stroke-width=\"1\" opacity=\"1\"/><line transform=\"translate(0,350)\" x2=\"-5\" y2=\"0\" stroke=\"#888\" stroke-width=\"1\" opacity=\"1\"/></g><g class=\"mark-text role-axis-label\" pointer-events=\"none\"><text text-anchor=\"end\" transform=\"translate(-7,52.5)\" font-family=\"sans-serif\" font-size=\"10px\" fill=\"#000\" opacity=\"1\">Prosecution</text><text text-anchor=\"end\" transform=\"translate(-7,152.5)\" font-family=\"sans-serif\" font-size=\"10px\" fill=\"#000\" opacity=\"1\">Verbal Warning</text><text text-anchor=\"end\" transform=\"translate(-7,252.5)\" font-family=\"sans-serif\" font-size=\"10px\" fill=\"#000\" opacity=\"1\">Written Warning</text><text text-anchor=\"end\" transform=\"translate(-7,352.5)\" font-family=\"sans-serif\" font-size=\"10px\" fill=\"#000\" opacity=\"1\">Youth Referral</text></g><g class=\"mark-rule role-axis-domain\" pointer-events=\"none\"><line transform=\"translate(0,0)\" x2=\"0\" y2=\"400\" stroke=\"#888\" stroke-width=\"1\" opacity=\"1\"/></g><g class=\"mark-text role-axis-title\" pointer-events=\"none\"><text text-anchor=\"middle\" transform=\"translate(-82.142578125,200) rotate(-90) translate(0,-2)\" font-family=\"sans-serif\" font-size=\"11px\" font-weight=\"bold\" fill=\"#000\" opacity=\"1\">Police_Action</text></g></g><path class=\"foreground\" aria-hidden=\"true\" d=\"\" pointer-events=\"none\" display=\"none\"/></g></g><g class=\"mark-rect role-mark marks\" role=\"graphics-object\" aria-roledescription=\"rect mark container\"><path aria-label=\"Count: 1; Police_Action: Prosecution; Breach_Type: Failing to Comply with a COVID-19 Direction/Prohibition/Restriction\" role=\"graphics-symbol\" aria-roledescription=\"bar\" d=\"M30,5h1.5v90h-1.5Z\" fill=\"#f58518\"/><path aria-label=\"Count: 218; Police_Action: Prosecution; Breach_Type: Health Act Breach\" role=\"graphics-symbol\" aria-roledescription=\"bar\" d=\"M31.5,5h327v90h-327Z\" fill=\"#e45756\"/><path aria-label=\"Count: 20; Police_Action: Prosecution; Breach_Type: CDEM Breach\" role=\"graphics-symbol\" aria-roledescription=\"bar\" d=\"M0,5h30v90h-30Z\" fill=\"#4c78a8\"/><path aria-label=\"Count: 2; Police_Action: Written Warning; Breach_Type: Failing to Comply with a COVID-19 Direction/Prohibition/Restriction\" role=\"graphics-symbol\" aria-roledescription=\"bar\" d=\"M60,205h3v90h-3Z\" fill=\"#f58518\"/><path aria-label=\"Count: 342; Police_Action: Written Warning; Breach_Type: Health Act Breach\" role=\"graphics-symbol\" aria-roledescription=\"bar\" d=\"M63,205h513v90h-513Z\" fill=\"#e45756\"/><path aria-label=\"Count: 40; Police_Action: Written Warning; Breach_Type: CDEM Breach\" role=\"graphics-symbol\" aria-roledescription=\"bar\" d=\"M0,205h60v90h-60Z\" fill=\"#4c78a8\"/><path aria-label=\"Count: 242; Police_Action: Verbal Warning; Breach_Type: Health Act Breach\" role=\"graphics-symbol\" aria-roledescription=\"bar\" d=\"M133.5,105h363v90h-363Z\" fill=\"#e45756\"/><path aria-label=\"Count: 89; Police_Action: Verbal Warning; Breach_Type: CDEM Breach\" role=\"graphics-symbol\" aria-roledescription=\"bar\" d=\"M0,105h133.5v90h-133.5Z\" fill=\"#4c78a8\"/><path aria-label=\"Count: 102; Police_Action: Youth Referral; Breach_Type: Health Act Breach\" role=\"graphics-symbol\" aria-roledescription=\"bar\" d=\"M13.5,305h153.00000000000003v90h-153.00000000000003Z\" fill=\"#e45756\"/><path aria-label=\"Count: 9; Police_Action: Youth Referral; Breach_Type: CDEM Breach\" role=\"graphics-symbol\" aria-roledescription=\"bar\" d=\"M0,305h13.5v90h-13.5Z\" fill=\"#4c78a8\"/></g><g class=\"mark-group role-legend\" role=\"graphics-symbol\" aria-roledescription=\"legend\" aria-label=\"Symbol legend titled 'Breach_Type' for fill color with 3 values: CDEM Breach, Failing to Comply with a COVID-19 Direction/Prohibition/Restriction, Health Act Breach\"><g transform=\"translate(618,0)\"><path class=\"background\" aria-hidden=\"true\" d=\"M0,0h176v53h-176Z\" pointer-events=\"none\"/><g><g class=\"mark-group role-legend-entry\"><g transform=\"translate(0,16)\"><path class=\"background\" aria-hidden=\"true\" d=\"M0,0h0v0h0Z\" pointer-events=\"none\"/><g><g class=\"mark-group role-scope\" role=\"graphics-object\" aria-roledescription=\"group mark container\"><g transform=\"translate(0,0)\"><path class=\"background\" aria-hidden=\"true\" d=\"M0,0h175.4921875v11h-175.4921875Z\" pointer-events=\"none\" opacity=\"1\"/><g><g class=\"mark-symbol role-legend-symbol\" pointer-events=\"none\"><path transform=\"translate(6,6)\" d=\"M-5,-5h10v10h-10Z\" fill=\"#4c78a8\" stroke-width=\"1.5\" opacity=\"1\"/></g><g class=\"mark-text role-legend-label\" pointer-events=\"none\"><text text-anchor=\"start\" transform=\"translate(16,9)\" font-family=\"sans-serif\" font-size=\"10px\" fill=\"#000\" opacity=\"1\">CDEM Breach</text></g></g><path class=\"foreground\" aria-hidden=\"true\" d=\"\" pointer-events=\"none\" display=\"none\"/></g><g transform=\"translate(0,13)\"><path class=\"background\" aria-hidden=\"true\" d=\"M0,0h175.4921875v11h-175.4921875Z\" pointer-events=\"none\" opacity=\"1\"/><g><g class=\"mark-symbol role-legend-symbol\" pointer-events=\"none\"><path transform=\"translate(6,6)\" d=\"M-5,-5h10v10h-10Z\" fill=\"#f58518\" stroke-width=\"1.5\" opacity=\"1\"/></g><g class=\"mark-text role-legend-label\" pointer-events=\"none\"><text text-anchor=\"start\" transform=\"translate(16,9)\" font-family=\"sans-serif\" font-size=\"10px\" fill=\"#000\" opacity=\"1\">Failing to Comply with a COVID-1…</text></g></g><path class=\"foreground\" aria-hidden=\"true\" d=\"\" pointer-events=\"none\" display=\"none\"/></g><g transform=\"translate(0,26)\"><path class=\"background\" aria-hidden=\"true\" d=\"M0,0h175.4921875v11h-175.4921875Z\" pointer-events=\"none\" opacity=\"1\"/><g><g class=\"mark-symbol role-legend-symbol\" pointer-events=\"none\"><path transform=\"translate(6,6)\" d=\"M-5,-5h10v10h-10Z\" fill=\"#e45756\" stroke-width=\"1.5\" opacity=\"1\"/></g><g class=\"mark-text role-legend-label\" pointer-events=\"none\"><text text-anchor=\"start\" transform=\"translate(16,9)\" font-family=\"sans-serif\" font-size=\"10px\" fill=\"#000\" opacity=\"1\">Health Act Breach</text></g></g><path class=\"foreground\" aria-hidden=\"true\" d=\"\" pointer-events=\"none\" display=\"none\"/></g></g></g><path class=\"foreground\" aria-hidden=\"true\" d=\"\" pointer-events=\"none\" display=\"none\"/></g></g><g class=\"mark-text role-legend-title\" pointer-events=\"none\"><text text-anchor=\"start\" transform=\"translate(0,9)\" font-family=\"sans-serif\" font-size=\"11px\" font-weight=\"bold\" fill=\"#000\" opacity=\"1\">Breach_Type</text></g></g><path class=\"foreground\" aria-hidden=\"true\" d=\"\" pointer-events=\"none\" display=\"none\"/></g></g></g><path class=\"foreground\" aria-hidden=\"true\" d=\"\" display=\"none\"/></g></g></g></svg>"
      ],
      "text/plain": [
       "@vlplot(\n",
       "    width=600,\n",
       "    height=400,\n",
       "    mark=\"bar\",\n",
       "    encoding={\n",
       "        x={\n",
       "            field=\"Count\"\n",
       "        },\n",
       "        y={\n",
       "            field=\"Police_Action\"\n",
       "        },\n",
       "        color={\n",
       "            field=\"Breach_Type\"\n",
       "        }\n",
       "    },\n",
       "    data={\n",
       "        values=...\n",
       "    }\n",
       ")"
      ]
     },
     "execution_count": 38,
     "metadata": {},
     "output_type": "execute_result"
    }
   ],
   "source": [
    "# The DataFrame 'count_by_breach_type_and_police_action_renamed' is used for creating the bar chart.\n",
    "\n",
    "count_by_breach_type_and_police_action_renamed |>\n",
    "  @vlplot(\n",
    "    :bar,                 # Using the bar mark for the chart\n",
    "    width = 600,          # Setting the width of the chart to 600 pixels\n",
    "    height = 400,         # Setting the height of the chart to 400 pixels\n",
    "    x = \"Count\",          # Using the 'Count' column for the x-axis\n",
    "    y = :Police_Action,   # Mapping the 'Police_Action' column to the y-axis\n",
    "    color = :Breach_Type  # Color-coding the bars based on the 'Breach_Type'\n",
    "  )\n",
    "\n",
    "# This code creates a horizontal bar chart using VegaLite. It visualizes the relationship between 'Count,' 'Police_Action,' and 'Breach_Type' in the DataFrame.\n"
   ]
  }
 ],
 "metadata": {
  "kernelspec": {
   "display_name": "Julia 1.9.2",
   "language": "julia",
   "name": "julia-1.9"
  },
  "language_info": {
   "file_extension": ".jl",
   "mimetype": "application/julia",
   "name": "julia",
   "version": "1.9.2"
  }
 },
 "nbformat": 4,
 "nbformat_minor": 5
}
